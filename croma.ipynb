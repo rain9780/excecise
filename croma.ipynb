{
  "nbformat": 4,
  "nbformat_minor": 0,
  "metadata": {
    "colab": {
      "provenance": [],
      "include_colab_link": true
    },
    "kernelspec": {
      "name": "python3",
      "display_name": "Python 3"
    },
    "language_info": {
      "name": "python"
    }
  },
  "cells": [
    {
      "cell_type": "markdown",
      "metadata": {
        "id": "view-in-github",
        "colab_type": "text"
      },
      "source": [
        "<a href=\"https://colab.research.google.com/github/rain9780/excecise/blob/main/croma.ipynb\" target=\"_parent\"><img src=\"https://colab.research.google.com/assets/colab-badge.svg\" alt=\"Open In Colab\"/></a>"
      ]
    },
    {
      "cell_type": "code",
      "source": [
        "! pip install -U langchain-community\n",
        "! pip install -U pypdf\n",
        "! pip install langchain-google-genai\n",
        "! pip install chromadb"
      ],
      "metadata": {
        "id": "mLUN_xeK1OLC"
      },
      "execution_count": null,
      "outputs": []
    },
    {
      "cell_type": "code",
      "source": [
        "from google.colab import drive\n",
        "drive.mount('/content/drive')"
      ],
      "metadata": {
        "id": "KT19sJMpe5Ij"
      },
      "execution_count": null,
      "outputs": []
    },
    {
      "cell_type": "code",
      "source": [
        "import getpass\n",
        "import os\n",
        "from langchain.document_loaders import PyPDFLoader\n",
        "from langchain.text_splitter import RecursiveCharacterTextSplitter\n",
        "from langchain_google_genai import GoogleGenerativeAIEmbeddings\n",
        "from langchain.vectorstores import Chroma\n",
        "import google.generativeai as genai\n",
        "\n",
        "if \"GOOGLE_API_KEY\" not in os.environ:\n",
        "    os.environ[\"GOOGLE_API_KEY\"] = getpass.getpass(\"Google AI API 키를 입력하세요: \")\n",
        "\n",
        "google_api_key = os.environ.get(\"GOOGLE_API_KEY\")\n",
        "\n",
        "google_embeding = GoogleGenerativeAIEmbeddings(\n",
        "    model=\"models/embedding-001\",\n",
        "    google_api_key=google_api_key\n",
        "    )\n",
        "\n",
        "loader = PyPDFLoader(r\"/content/drive/MyDrive/Colab Notebooks/대한민국헌법(헌법)(제00010호)(19880225).pdf\")\n",
        "pages = loader.load_and_split()\n",
        "\n",
        "text_splitter = RecursiveCharacterTextSplitter(\n",
        "    chunk_size=500,\n",
        "    chunk_overlap=0,\n",
        "    length_function=len,\n",
        ")\n",
        "docs=text_splitter.split_documents(pages)\n",
        "\n",
        "db = Chroma.from_documents(docs, google_embeding)\n",
        "docs = text_splitter.split_documents(pages)"
      ],
      "metadata": {
        "id": "ieu7TGtCPjWt"
      },
      "execution_count": 12,
      "outputs": []
    },
    {
      "cell_type": "code",
      "source": [
        "docs[-1]"
      ],
      "metadata": {
        "colab": {
          "base_uri": "https://localhost:8080/"
        },
        "id": "KZgqh_fkeT5T",
        "outputId": "064d702b-1ee5-4221-fd77-87b76fc38909"
      },
      "execution_count": 15,
      "outputs": [
        {
          "output_type": "execute_result",
          "data": {
            "text/plain": [
              "Document(metadata={'source': '/content/drive/MyDrive/Colab Notebooks/대한민국헌법(헌법)(제00010호)(19880225).pdf', 'page': 13, 'page_label': '14'}, page_content='법제처                                                            14                                                       국가법령정보센터\\n대한민국헌법\\n제5조 이 헌법시행 당시의 법령과 조약은 이 헌법에 위배되지 아니하는 한 그 효력을 지속한다.\\n제6조 이 헌법시행 당시에 이 헌법에 의하여 새로 설치될 기관의 권한에 속하는 직무를 행하고 있는 기관은 이 헌법에\\n의하여 새로운 기관이 설치될 때까지 존속하며 그 직무를 행한다.')"
            ]
          },
          "metadata": {},
          "execution_count": 15
        }
      ]
    },
    {
      "cell_type": "code",
      "source": [
        "query=\"제70조의 대통령의 임기는?\"\n",
        "docs = db.similarity_search(query)\n",
        "print(docs[0])\n",
        "db.similarity_search_with_score(query)"
      ],
      "metadata": {
        "id": "vxrUnb4rPjaO"
      },
      "execution_count": null,
      "outputs": []
    },
    {
      "cell_type": "code",
      "source": [
        "#save to disk\n",
        "db2 = Chroma.from_documents(docs, google_embeding, persist_directory=\"./Chroma_db\")\n",
        "\n",
        "#load from disk\n",
        "db3=Chroma(persist_directory=\"./Chroma_db\", embedding_function=google_embeding)\n",
        "result=db3.similarity_search(query)\n",
        "print(result[0].page_content)"
      ],
      "metadata": {
        "colab": {
          "base_uri": "https://localhost:8080/"
        },
        "id": "4_emIUt2PjeB",
        "outputId": "e13c2913-c491-452a-a1fd-cbcc8b718a54"
      },
      "execution_count": 27,
      "outputs": [
        {
          "output_type": "stream",
          "name": "stdout",
          "text": [
            "제70조 대통령의 임기는 5년으로 하며, 중임할 수 없다.\n",
            " \n",
            "제71조 대통령이 궐위되거나 사고로 인하여 직무를 수행할 수 없을 때에는 국무총리, 법률이 정한 국무위원의 순서로\n",
            "그 권한을 대행한다.\n",
            " \n",
            "제72조 대통령은 필요하다고 인정할 때에는 외교ㆍ국방ㆍ통일 기타 국가안위에 관한 중요정책을 국민투표에 붙일 수\n",
            "있다.\n",
            " \n",
            "제73조 대통령은 조약을 체결ㆍ비준하고, 외교사절을 신임ㆍ접수 또는 파견하며, 선전포고와 강화를 한다.\n",
            " \n",
            "제74조 ①대통령은 헌법과 법률이 정하는 바에 의하여 국군을 통수한다.\n",
            "②국군의 조직과 편성은 법률로 정한다.\n",
            " \n",
            "제75조 대통령은 법률에서 구체적으로 범위를 정하여 위임받은 사항과 법률을 집행하기 위하여 필요한 사항에 관하여\n",
            "대통령령을 발할 수 있다.\n",
            " \n",
            "제76조 ①대통령은 내우ㆍ외환ㆍ천재ㆍ지변 또는 중대한 재정ㆍ경제상의 위기에 있어서 국가의 안전보장 또는 공공의\n"
          ]
        },
        {
          "output_type": "stream",
          "name": "stderr",
          "text": [
            "<ipython-input-27-bb29cd640ba7>:5: LangChainDeprecationWarning: The class `Chroma` was deprecated in LangChain 0.2.9 and will be removed in 1.0. An updated version of the class exists in the :class:`~langchain-chroma package and should be used instead. To use it run `pip install -U :class:`~langchain-chroma` and import as `from :class:`~langchain_chroma import Chroma``.\n",
            "  db3=Chroma(persist_directory=\"./Chroma_db\", embedding_function=google_embeding)\n"
          ]
        }
      ]
    },
    {
      "cell_type": "code",
      "source": [
        "import chromadb\n",
        "#collection을 저장할 경로 지정\n",
        "client = chromadb.PersistentClient(path=\"./collection_example\")\n",
        "client.heartbeat()"
      ],
      "metadata": {
        "colab": {
          "base_uri": "https://localhost:8080/"
        },
        "id": "cLNAzux5Pjj2",
        "outputId": "4a750797-63a9-4b85-f056-9505329e5f84"
      },
      "execution_count": 28,
      "outputs": [
        {
          "output_type": "execute_result",
          "data": {
            "text/plain": [
              "1737594396011648708"
            ]
          },
          "metadata": {},
          "execution_count": 28
        }
      ]
    },
    {
      "cell_type": "code",
      "source": [
        "from chromadb.utils import embedding_functions\n",
        "import chromadb.utils.embedding_functions as embedding_functions\n",
        "\n",
        "embedding_function = embedding_functions.GoogleGenerativeAiEmbeddingFunction(google_api_key)\n",
        "\n",
        "collection=client.get_or_create_collection(name=\"korean_law\", embedding_function=embedding_function)"
      ],
      "metadata": {
        "id": "OuoGzIAEPjoH"
      },
      "execution_count": 33,
      "outputs": []
    },
    {
      "cell_type": "code",
      "source": [
        "collection"
      ],
      "metadata": {
        "colab": {
          "base_uri": "https://localhost:8080/"
        },
        "id": "C-X5J-xNPjrH",
        "outputId": "08596df8-70c9-48d6-de5a-bb9bacc2167e"
      },
      "execution_count": 35,
      "outputs": [
        {
          "output_type": "execute_result",
          "data": {
            "text/plain": [
              "Collection(name=korean_law)"
            ]
          },
          "metadata": {},
          "execution_count": 35
        }
      ]
    },
    {
      "cell_type": "code",
      "source": [
        "from langchain_text_splitters import RecursiveCharacterTextSplitter\n",
        "from langchain.document_loaders import PyPDFLoader\n",
        "from langchain.vectorstores import Chroma\n",
        "\n",
        "loader=PyPDFLoader(r\"/content/drive/MyDrive/Colab Notebooks/대한민국헌법(헌법)(제00010호)(19880225).pdf\")\n",
        "pages=loader.load_and_split()\n",
        "\n",
        "text_splitter=RecursiveCharacterTextSplitter(\n",
        "    chunk_size=500,\n",
        "    chunk_overlap=0,\n",
        ")\n",
        "docs=text_splitter.split_documents(pages)\n",
        "\n",
        "collection.add(\n",
        "    ids=[str(i) for i in range(len(docs))],\n",
        "    documents=[doc.page_content for doc in docs],\n",
        "    metadatas=[doc.metadata for doc in docs]\n",
        ")"
      ],
      "metadata": {
        "id": "k3YRqaXN1cud"
      },
      "execution_count": 38,
      "outputs": []
    },
    {
      "cell_type": "code",
      "source": [
        "Collection=client.get_collection(name=\"korean_law\")"
      ],
      "metadata": {
        "id": "wu3FQQMu3Fty"
      },
      "execution_count": 41,
      "outputs": []
    },
    {
      "cell_type": "code",
      "source": [
        "collection.query(\n",
        "    query_texts=[\"직업 선택의 자유\"],\n",
        "    n_results=3,\n",
        "    where={\"page\":1},\n",
        ")"
      ],
      "metadata": {
        "id": "erv1uFs13hDk"
      },
      "execution_count": null,
      "outputs": []
    },
    {
      "cell_type": "code",
      "source": [
        "collection.query(\n",
        "    query_texts=[\"직업 선택의 자유\"],\n",
        "    n_results=3,\n",
        "    where={\"page\":{\"$gte\":5}},\n",
        ")"
      ],
      "metadata": {
        "id": "2QI8Iace4iIx"
      },
      "execution_count": null,
      "outputs": []
    },
    {
      "cell_type": "code",
      "source": [
        "collection.query(\n",
        "    query_texts=[\"직업 선택의 자유\"],\n",
        "    n_results=3,\n",
        "    where={\"page\":1},\n",
        "    where_document={\"$contains\":\"10\"},\n",
        ")"
      ],
      "metadata": {
        "id": "zTh7_qdy48-7",
        "outputId": "1824e55a-9d04-43be-b7a3-3d8d74ede198",
        "colab": {
          "base_uri": "https://localhost:8080/",
          "height": 311
        }
      },
      "execution_count": 60,
      "outputs": [
        {
          "output_type": "execute_result",
          "data": {
            "text/plain": [
              "{'ids': [['4']],\n",
              " 'embeddings': None,\n",
              " 'documents': [['법제처                                                            2                                                       국가법령정보센터\\n대한민국헌법\\n \\n       제2장 국민의 권리와 의무\\n \\n제10조 모든 국민은 인간으로서의 존엄과 가치를 가지며, 행복을 추구할 권리를 가진다. 국가는 개인이 가지는 불가침\\n의 기본적 인권을 확인하고 이를 보장할 의무를 진다.\\n \\n제11조 ①모든 국민은 법 앞에 평등하다. 누구든지 성별ㆍ종교 또는 사회적 신분에 의하여 정치적ㆍ경제적ㆍ사회적ㆍ\\n문화적 생활의 모든 영역에 있어서 차별을 받지 아니한다.\\n②사회적 특수계급의 제도는 인정되지 아니하며, 어떠한 형태로도 이를 창설할 수 없다.\\n③훈장등의 영전은 이를 받은 자에게만 효력이 있고, 어떠한 특권도 이에 따르지 아니한다.']],\n",
              " 'uris': None,\n",
              " 'data': None,\n",
              " 'metadatas': [[{'page': 1,\n",
              "    'page_label': '2',\n",
              "    'source': '/content/drive/MyDrive/Colab Notebooks/대한민국헌법(헌법)(제00010호)(19880225).pdf'}]],\n",
              " 'distances': [[0.27309454930277915]],\n",
              " 'included': [<IncludeEnum.distances: 'distances'>,\n",
              "  <IncludeEnum.documents: 'documents'>,\n",
              "  <IncludeEnum.metadatas: 'metadatas'>]}"
            ]
          },
          "metadata": {},
          "execution_count": 60
        }
      ]
    },
    {
      "cell_type": "code",
      "source": [
        "from langchain.prompts import PromptTemplate\n",
        "\n",
        "prompt=(\n",
        "    PromptTemplate.from_template(\n",
        "        \"\"\"\n",
        "        너는 요리사야. 내가 가진 재료들을 갖고 만들 수 있는 요리를 {개수}개를 추천하고,\n",
        "        그 요리의 레시피를 제시해줘. 내가 가진 재료는 아래와 같아.\n",
        "        {재료}\n",
        "        \"\"\"\n",
        "    )\n",
        ")\n",
        "\n",
        "prompt"
      ],
      "metadata": {
        "id": "3txpF9wqz5_m",
        "colab": {
          "base_uri": "https://localhost:8080/"
        },
        "outputId": "ee6c9f61-7f72-4ed6-a4a8-5f49a06e608c"
      },
      "execution_count": null,
      "outputs": [
        {
          "output_type": "execute_result",
          "data": {
            "text/plain": [
              "PromptTemplate(input_variables=['개수', '재료'], input_types={}, partial_variables={}, template='\\n        너는 요리사야. 내가 가진 재료들을 갖고 만들 수 있는 요리를 {개수}개를 추천하고,\\n        그 요리의 레시피를 제시해줘. 내가 가진 재료는 아래와 같아.\\n        {재료}\\n        ')"
            ]
          },
          "metadata": {},
          "execution_count": 4
        }
      ]
    },
    {
      "cell_type": "code",
      "source": [
        "prompt.format(개수=3, 재료=\"사과, 양파, 계란\")"
      ],
      "metadata": {
        "colab": {
          "base_uri": "https://localhost:8080/",
          "height": 54
        },
        "id": "qS5tqETbr11n",
        "outputId": "bc13ee95-57a6-417a-c923-b6f544a1f8bf"
      },
      "execution_count": null,
      "outputs": [
        {
          "output_type": "execute_result",
          "data": {
            "text/plain": [
              "'\\n        너는 요리사야. 내가 가진 재료들을 갖고 만들 수 있는 요리를 3개를 추천하고,\\n        그 요리의 레시피를 제시해줘. 내가 가진 재료는 아래와 같아.\\n        사과, 양파, 계란\\n        '"
            ],
            "application/vnd.google.colaboratory.intrinsic+json": {
              "type": "string"
            }
          },
          "metadata": {},
          "execution_count": 5
        }
      ]
    },
    {
      "cell_type": "code",
      "source": [
        "import getpass\n",
        "import os\n",
        "from langchain_google_genai import ChatGoogleGenerativeAI\n",
        "from langchain.schema import HumanMessage, SystemMessage, AIMessage\n",
        "from langchain.prompts import ChatPromptTemplate\n",
        "\n",
        "if \"GOOGLE_API_KEY\" not in os.environ:\n",
        "    os.environ[\"GOOGLE_API_KEY\"] = getpass.getpass(\"Google AI API 키를 입력하세요: \")\n",
        "\n",
        "messages = [\n",
        "    SystemMessage(content=\"당신은 친절하고 도움이 되는 AI 비서입니다.\"),\n",
        "    HumanMessage(content=\"오늘 날씨 어때?\"),\n",
        "    AIMessage(content=\"오늘 날씨는 맑고 화창합니다.\"),\n",
        "    HumanMessage(content=\"f{user_input}\"),\n",
        "]\n",
        "\n",
        "# Access the correct element in the list and format its content\n",
        "# new_prompt[2] = HumanMessage(content=new_prompt[2].content.format(input=\"오늘 너의 기분은 어때?\"))\n",
        "\n",
        "llm = ChatGoogleGenerativeAI(model=\"gemini-pro\")"
      ],
      "metadata": {
        "id": "OlWp6f-xDA4S"
      },
      "execution_count": null,
      "outputs": []
    },
    {
      "cell_type": "code",
      "source": [
        "from langchain.chains import LLMChain\n",
        "from langchain_google_genai import ChatGoogleGenerativeAI\n",
        "\n",
        "model= ChatGoogleGenerativeAI(model=\"gemini-1.5-pro-latest\", temperature=0)\n",
        "prompt = ChatPromptTemplate.from_messages(messages)\n",
        "chain = LLMChain(llm=model, prompt=prompt)\n",
        "response = chain.invoke({\"user_input\":\"오늘 한국 세종자치시의 온도는 어때?\"})\n",
        "print(response['text'])"
      ],
      "metadata": {
        "colab": {
          "base_uri": "https://localhost:8080/"
        },
        "id": "j2CRQpraIp5A",
        "outputId": "60c79203-39ac-4d52-de66-b2068c049630"
      },
      "execution_count": null,
      "outputs": [
        {
          "output_type": "stream",
          "name": "stdout",
          "text": [
            "죄송합니다. 위치 정보가 없어서 오늘 날씨를 알려드릴 수 없습니다. 위치를 알려주시면 오늘 날씨를 알려드리겠습니다.\n",
            "\n"
          ]
        }
      ]
    },
    {
      "cell_type": "code",
      "source": [],
      "metadata": {
        "id": "8brC19W04GVl"
      },
      "execution_count": null,
      "outputs": []
    },
    {
      "cell_type": "code",
      "source": [],
      "metadata": {
        "id": "1P6WVUh74GY_"
      },
      "execution_count": null,
      "outputs": []
    },
    {
      "cell_type": "code",
      "source": [],
      "metadata": {
        "id": "5yTqvdvI4Gck"
      },
      "execution_count": null,
      "outputs": []
    },
    {
      "cell_type": "code",
      "source": [],
      "metadata": {
        "id": "q7WRzdHb4Gew"
      },
      "execution_count": null,
      "outputs": []
    },
    {
      "cell_type": "code",
      "source": [],
      "metadata": {
        "id": "145uucHW4Gjl"
      },
      "execution_count": null,
      "outputs": []
    },
    {
      "cell_type": "code",
      "source": [],
      "metadata": {
        "id": "xgRwkqoh4Gm3"
      },
      "execution_count": null,
      "outputs": []
    },
    {
      "cell_type": "code",
      "source": [],
      "metadata": {
        "id": "lPsXHKEF4Gpm"
      },
      "execution_count": null,
      "outputs": []
    },
    {
      "cell_type": "code",
      "source": [],
      "metadata": {
        "id": "e89E0eyi4Gv4"
      },
      "execution_count": null,
      "outputs": []
    },
    {
      "cell_type": "code",
      "source": [
        "import anthropic\n",
        "import getpass\n",
        "import os\n",
        "from langchain_google_genai import ChatGoogleGenerativeAI\n",
        "\n",
        "if \"GOOGLE_API_KEY\" not in os.environ:\n",
        "    os.environ[\"GOOGLE_API_KEY\"] = getpass.getpass(\"Google AI API 키를 입력하세요: \")\n",
        "\n",
        "# Gemini Pro 모델을 사용하는 경우\n",
        "llm = ChatGoogleGenerativeAI(model=\"gemini-pro\")\n",
        "\n",
        "# Gemini Ultra 모델을 사용하는 경우\n",
        "# llm = ChatGoogleGenerativeAI(model=\"gemini-ultra\")\n",
        "\n",
        "# 모델을 사용하여 텍스트 생성\n",
        "result = llm.invoke(\"안녕하세요. 한국어로 응답해주세요.오늘이 23년 11월 8일인가요?\")\n",
        "print(result.content)"
      ],
      "metadata": {
        "id": "NTcgNA6Rr18b"
      },
      "execution_count": null,
      "outputs": []
    },
    {
      "cell_type": "code",
      "source": [],
      "metadata": {
        "id": "jzEKxdTcCeR6"
      },
      "execution_count": null,
      "outputs": []
    },
    {
      "cell_type": "code",
      "source": [
        "!pip install matplotlib\n",
        "\n",
        "import matplotlib.pyplot as plt\n",
        "import calendar\n",
        "\n",
        "# 한국 세종의 월별 평균 강수량 (단위: mm) - 출처: 기상청\n",
        "# 데이터는 예시이며, 실제 데이터와 다를 수 있습니다.\n",
        "monthly_rainfall = {\n",
        "    \"1월\": 34.5, \"2월\": 38.1, \"3월\": 64.3, \"4월\": 88.2,\n",
        "    \"5월\": 105.7, \"6월\": 154.8, \"7월\": 285.4, \"8월\": 272.7,\n",
        "    \"9월\": 147.5, \"10월\": 55.1, \"11월\": 44.6, \"12월\": 26.5\n",
        "}\n",
        "\n",
        "# 월 이름을 한국어로 표시하기 위해 calendar 모듈 사용\n",
        "months = [calendar.month_name[i] for i in range(1, 13)]\n",
        "months_korean = [\"1월\", \"2월\", \"3월\", \"4월\", \"5월\", \"6월\", \"7월\", \"8월\", \"9월\", \"10월\", \"11월\", \"12월\"]\n",
        "\n",
        "# 강수량 데이터 추출\n",
        "rainfall_values = [monthly_rainfall[month] for month in months_korean]\n",
        "\n",
        "# 그래프 생성\n",
        "plt.figure(figsize=(10, 6))  # 그래프 크기 설정\n",
        "plt.bar(months_korean, rainfall_values, color='skyblue')  # 막대 그래프 생성\n",
        "plt.title(\"한국 세종 월별 평균 강수량\", fontsize=16)  # 제목 설정\n",
        "plt.xlabel(\"월\", fontsize=12)  # x축 레이블 설정\n",
        "plt.ylabel(\"강수량 (mm)\", fontsize=12)  # y축 레이블 설정\n",
        "plt.xticks(rotation=45, ha='right')  # x축 눈금 레이블 회전\n",
        "plt.tight_layout()  # 레이아웃 조정\n",
        "plt.show()  # 그래프 표시"
      ],
      "metadata": {
        "id": "ItaUTseDAF4I"
      },
      "execution_count": null,
      "outputs": []
    },
    {
      "cell_type": "code",
      "source": [],
      "metadata": {
        "id": "rMX6b5uCyNg5"
      },
      "execution_count": null,
      "outputs": []
    },
    {
      "cell_type": "code",
      "source": [
        "import bisect"
      ],
      "metadata": {
        "id": "k0TpWZyGr1-M"
      },
      "execution_count": null,
      "outputs": []
    },
    {
      "cell_type": "code",
      "execution_count": null,
      "metadata": {
        "id": "VkPufoQjzR5O"
      },
      "outputs": [],
      "source": [
        "def grade(score, breakpoint=[60, 70, 80, 90], grades='FDCBA'):\n",
        "    i = bisect.bisect(breakpoint, score)\n",
        "    return grades[i]"
      ]
    },
    {
      "cell_type": "code",
      "source": [
        "[grade(score) for score in [33, 99, 77, 70, 89, 90, 100]]"
      ],
      "metadata": {
        "colab": {
          "base_uri": "https://localhost:8080/"
        },
        "id": "w6gbGotv0vH4",
        "outputId": "13e468d0-d621-426f-ad6d-e897f5453269"
      },
      "execution_count": null,
      "outputs": [
        {
          "output_type": "execute_result",
          "data": {
            "text/plain": [
              "['F', 'A', 'C', 'C', 'B', 'A', 'A']"
            ]
          },
          "metadata": {},
          "execution_count": 26
        }
      ]
    },
    {
      "cell_type": "markdown",
      "source": [
        "\n",
        "bisect.bisect() 함수는 이진 탐색 알고리즘을 사용하여 정렬된 리스트에 값을 삽입할 때 정렬을 유지할 수 있는 인덱스를 반환하는 함수입니다.\n",
        "\n",
        "Python\n",
        "\n",
        "    import bisect\n",
        "    a = [1, 2, 3, 4, 5]\n",
        "    bisect.bisect(a, 3)\n",
        "\n",
        "\n",
        "bisect.bisect() 함수는 다음과 같은 매개변수를 사용합니다.\n",
        "\n",
        "    a: 정렬된 리스트\n",
        "    x: 삽입할 값\n",
        "    lo: 고려할 리스트의 부분집합의 시작 인덱스 (기본값: 0)\n",
        "    hi: 고려할 리스트의 부분집합의 끝 인덱스 (기본값: a의 길이)\n",
        "bisect.bisect() 함수는 다음과 같은 방식으로 작동합니다.\n",
        "\n",
        "1. a의 중간 인덱스를 찾습니다.\n",
        "1. a의 중간 인덱스에 있는 값과 x를 비교합니다.\n",
        "1. x가 중간 인덱스에 있는 값보다 작으면, a의 왼쪽 부분집합을 대상으로 다시 이진 탐색을 수행합니다.\n",
        "1. x가 중간 인덱스에 있는 값보다 크거나 같으면, a의 오른쪽 부분집합을 대상으로 다시 이진 탐색을 수행합니다.\n",
        "1. 이 과정을 반복하여 x가 **a에 삽입될 수 있는 위치**를 찾습니다.\n"
      ],
      "metadata": {
        "id": "D7r-VpST5N3L"
      }
    },
    {
      "cell_type": "code",
      "source": [
        "import random\n",
        "\n",
        "class BingoCage:\n",
        "\n",
        "    def __init__(self, items):\n",
        "        self._items = list(items)\n",
        "        random.shuffle(self._items)\n",
        "\n",
        "    def pick(self):\n",
        "        try:\n",
        "            return self._items.pop()\n",
        "        except IndexError:\n",
        "            raise LookupError('pick from empty BingoCage')\n",
        "\n",
        "    def __call__(self):\n",
        "        return self.pick()"
      ],
      "metadata": {
        "id": "d2mOKOhnLh6v"
      },
      "execution_count": null,
      "outputs": []
    },
    {
      "cell_type": "code",
      "source": [
        "bingo = BingoCage(range(3))\n",
        "print(bingo.pick())\n",
        "bingo()"
      ],
      "metadata": {
        "colab": {
          "base_uri": "https://localhost:8080/"
        },
        "id": "qTPnbDTbN9xT",
        "outputId": "6c5a259c-1535-46a3-a8bc-02e839471834"
      },
      "execution_count": null,
      "outputs": [
        {
          "output_type": "stream",
          "name": "stdout",
          "text": [
            "2\n"
          ]
        },
        {
          "output_type": "execute_result",
          "data": {
            "text/plain": [
              "1"
            ]
          },
          "metadata": {},
          "execution_count": 6
        }
      ]
    },
    {
      "cell_type": "code",
      "source": [
        "def tag(name, *content, cls=None, **attrs):\n",
        "    if cls is not None:\n",
        "        attrs['class'] = cls\n",
        "    if attrs:\n",
        "        attr_str= ''.join(' %s= \"%s\"' % (attr, value) for attr, value in sorted(attrs.items()))\n",
        "    else:\n",
        "        attr_str=''\n",
        "    if content:\n",
        "        return '\\n'.join('<%s%s>%s</%s>' % (name, attr_str, c, name) for c in content)\n",
        "    else:\n",
        "        return '<%s%s />' % (name, attr_str)"
      ],
      "metadata": {
        "id": "8JtzXueoTZI2"
      },
      "execution_count": null,
      "outputs": []
    },
    {
      "cell_type": "code",
      "source": [
        "print(tag('br'))    # 위치 인수하나만 사용해서 호출하면 이름을 가진 빈 태그를 생성한다.\n",
        "print(tag('p', 'hello'))    # 첫번째 이후의 인수들은 모두 *content 매개변수에 튜플로 전달된다.\n",
        "print(tag('p', 'hello', 'world'))\n",
        "print(tag('p', 'hello', id=33))    # tag 시그니처에 명시적으로 이름이 지정되지 않은 키워드 인수들은 딕셔너리로 **attrs 인수에 전달된다\n",
        "print(tag('p', 'hello', 'world', cls='sidebar'))\n",
        "print(tag(content='testing', name='img'))\n",
        "my_tag= {'name':'img', 'title':'Sunset Boulevard', 'src':'sunset.jpg', 'cls':'framed'}\n",
        "tag(**my_tag)"
      ],
      "metadata": {
        "colab": {
          "base_uri": "https://localhost:8080/",
          "height": 182
        },
        "id": "K1AQb4hWvhO5",
        "outputId": "ef6bb8a7-2029-4aad-8d1b-fdcc1a981da0"
      },
      "execution_count": null,
      "outputs": [
        {
          "output_type": "stream",
          "name": "stdout",
          "text": [
            "<br />\n",
            "<p>hello</p>\n",
            "<p>hello</p>\n",
            "<p>world</p>\n",
            "<p id= \"33\">hello</p>\n",
            "<p class= \"sidebar\">hello</p>\n",
            "<p class= \"sidebar\">world</p>\n",
            "<img content= \"testing\" />\n"
          ]
        },
        {
          "output_type": "execute_result",
          "data": {
            "text/plain": [
              "'<img class= \"framed\" src= \"sunset.jpg\" title= \"Sunset Boulevard\" />'"
            ],
            "application/vnd.google.colaboratory.intrinsic+json": {
              "type": "string"
            }
          },
          "metadata": {},
          "execution_count": 25
        }
      ]
    },
    {
      "cell_type": "code",
      "source": [
        "from operator import mul\n",
        "from functools import partial\n",
        "triple = partial(mul, 3)    # mul()함수의 첫번째 위치인수를 3으로 바인딩해서 triple() 함수 생성\n",
        "print(triple(7))\n",
        "list(map(triple, range(1, 10)))"
      ],
      "metadata": {
        "colab": {
          "base_uri": "https://localhost:8080/"
        },
        "id": "6ZmIKwXIvhw0",
        "outputId": "fd5d6999-f744-4412-ab09-2d5f3ec6c36d"
      },
      "execution_count": null,
      "outputs": [
        {
          "output_type": "stream",
          "name": "stdout",
          "text": [
            "21\n"
          ]
        },
        {
          "output_type": "execute_result",
          "data": {
            "text/plain": [
              "[3, 6, 9, 12, 15, 18, 21, 24, 27]"
            ]
          },
          "metadata": {},
          "execution_count": 26
        }
      ]
    },
    {
      "cell_type": "code",
      "source": [
        "import unicodedata, functools\n",
        "nfc = functools.partial(unicodedata.normalize, 'NFC')\n",
        "s1 = 'cafe\\u0301'\n",
        "print(s1 == nfc(s1))\n",
        "print(s1)\n",
        "print(nfc(s1))"
      ],
      "metadata": {
        "colab": {
          "base_uri": "https://localhost:8080/"
        },
        "id": "ZGY0Bhkdb2CH",
        "outputId": "6f8b26b9-8c7e-4db5-fc93-14e3908d4c92"
      },
      "execution_count": null,
      "outputs": [
        {
          "output_type": "stream",
          "name": "stdout",
          "text": [
            "False\n",
            "café\n",
            "café\n"
          ]
        }
      ]
    },
    {
      "cell_type": "markdown",
      "source": [
        "파이썬 데코레이터는 함수에 추가 기능을 제공하는 기능입니다. 데코레이터는 함수를 감싸는 형태로 구성되며, 함수를 호출할 때마다 데코레이터가 먼저 실행됩니다.\n",
        "\n",
        "데코레이터를 사용하면 기존 함수를 수정하지 않고도 추가 기능을 구현할 수 있습니다. 예를 들어, 다음과 같은 함수가 있다고 가정해 보겠습니다.\n",
        "```\n",
        "Python\n",
        "def hello(name):\n",
        "    print(\"안녕하세요, {}님!\".format(name))\n",
        "```\n",
        "코드를 사용할 때는 주의가 필요합니다. 자세히 알아보기\n",
        "이 함수를 데코레이터를 사용하여 실행 시간 측정 기능을 추가해 보겠습니다.\n",
        "```\n",
        "Python\n",
        "import time\n",
        "def timer(func):\n",
        "    def wrapper(*args, **kwargs):\n",
        "        start = time.time()\n",
        "        func(*args, **kwargs)\n",
        "        end = time.time()\n",
        "        print(\"실행 시간: {}초\".format(end - start))\n",
        "    return wrapper\n",
        "\n",
        "@timer\n",
        "def hello(name):\n",
        "    print(\"안녕하세요, {}님!\".format(name))\n",
        "hello(\"홍길동\")\n",
        "```\n",
        "코드를 사용할 때는 주의가 필요합니다. 자세히 알아보기\n",
        "위 코드는 timer() 데코레이터를 사용하여 hello() 함수에 실행 시간 측정 기능을 추가했습니다. timer() 데코레이터는 hello() 함수를 감싸는 wrapper() 함수를 반환합니다. wrapper() 함수는 hello() 함수를 호출하기 전에 실행 시간 측정을 시작하고, hello() 함수를 호출한 후 실행 시간 측정을 종료합니다.\n",
        "\n",
        "데코레이터를 사용하면 다음과 같은 다양한 기능을 추가할 수 있습니다.\n",
        "\n",
        "함수 호출 전후에 로그를 남기는 기능\n",
        "함수의 매개변수나 반환값을 제한하는 기능\n",
        "함수의 실행 속도를 측정하는 기능\n",
        "데코레이터는 파이썬에서 매우 유용한 기능으로, 다양한 상황에서 활용할 수 있습니다.\n",
        "\n",
        "데코레이터를 사용하기 위해서는 다음과 같은 두 가지 방법이 있습니다.\n",
        "\n",
        "함수 선언 앞에 데코레이터를 지정하는 방법\n",
        "```\n",
        "Python\n",
        "@timer\n",
        "def hello(name):\n",
        "    print(\"안녕하세요, {}님!\".format(name))\n",
        "코드를 사용할 때는 주의가 필요합니다. 자세히 알아보기\n",
        "함수 정의 후에 데코레이터를 적용하는 방법\n",
        "Python\n",
        "def hello(name):\n",
        "    print(\"안녕하세요, {}님!\".format(name))\n",
        "\n",
        "hello = timer(hello)\n",
        "```\n",
        "코드를 사용할 때는 주의가 필요합니다. 자세히 알아보기\n",
        "두 가지 방법은 모두 동일한 결과를 가집니다."
      ],
      "metadata": {
        "id": "xhDlIaiN_0N7"
      }
    },
    {
      "cell_type": "code",
      "source": [
        "import time\n",
        "\n",
        "def timer(func):\n",
        "    def wrapper(*args, **kwargs):\n",
        "        start = time.time()\n",
        "        func(*args, **kwargs)\n",
        "        end = time.time()\n",
        "        print(\"실행 시간: {}초\".format(end - start))\n",
        "    return wrapper\n",
        "\n",
        "@timer\n",
        "def hello(name):\n",
        "    print(\"안녕하세요, {}님!\".format(name))\n",
        "\n",
        "hello(\"홍길동\")"
      ],
      "metadata": {
        "colab": {
          "base_uri": "https://localhost:8080/"
        },
        "id": "UL7tuSLB9xQN",
        "outputId": "c52c123f-568e-4404-ab5b-be7bbfa0e812"
      },
      "execution_count": null,
      "outputs": [
        {
          "output_type": "stream",
          "name": "stdout",
          "text": [
            "안녕하세요, 홍길동님!\n",
            "실행 시간: 0.0005860328674316406초\n"
          ]
        }
      ]
    },
    {
      "cell_type": "code",
      "source": [
        "from abc import ABC, abstractmethod\n",
        "from collections import namedtuple\n",
        "\n",
        "Customer = namedtuple('Customer', 'name fidelity')\n",
        "\n",
        "class Lineitem:\n",
        "\n",
        "    def __init__(self, product, quantity, price):\n",
        "        self.product = product\n",
        "        self.quantity = quantity\n",
        "        self.price\n",
        "\n",
        "    def total(self):\n",
        "        return self.price * self.quantity\n",
        "\n",
        "\n",
        "class Oder:\n",
        "\n",
        "    def __init__(self, customer, cart, promotion=None):\n",
        "        self.customer = customer\n",
        "        self.cart = list(cart)\n",
        "        self.promotion = promotion\n",
        "\n",
        "    def total(self):\n",
        "        if not hasattr(self, '__total'):\n",
        "            self.__total = sum(item.total() for item in self.cart)\n",
        "        return self.__total\n",
        "\n",
        "    def due(self):\n",
        "        if self.promotion is None:\n",
        "            discount = 0\n",
        "        else:\n",
        "            discount = self.promotion.discount(self)\n",
        "        return self.total() - discount\n",
        "\n",
        "    def __repr__(self):\n",
        "        fmt = '<Order total: {:.2f} due: {:.2f}>'\n",
        "        return fmt.format(self.total(), self.due())\n",
        "\n",
        "class Promotion(ABC)    # 전략: 추상베이스 클래스\n",
        "\n",
        "    @abstractmethod\n",
        "    def discount(self, order):\n",
        "        \"\"\"할인액을 구체적인 숫자로 반환한다.\"\"\"\n",
        "\n",
        "class FidelityPromo(Promotion):    # 첫번째 구체적인 전략\n",
        "    \"\"\"충성도 포인트가 1000점 이상인 고객에게 전체 5% 할인 적용\"\"\"\n",
        "\n",
        "    def discount(self, order):\n",
        "        return order.total() * 0.05 if order.customer.fidelity >= 1000 else 0\n",
        "\n",
        "class BulkItemPromo(Promotion):   # 두번째 구체적인 전략\n",
        "    \"\"\"20개 이상의 동일 상품을 구입하면 10% 할인 적용\"\"\"\n",
        "\n",
        "    def discount(self, order):\n",
        "        discount = 0\n",
        "        for item in order.cart:\n",
        "            if item.quantity >= 20:\n",
        "                discount += item.total() * 0.1\n",
        "        return discount\n",
        "\n",
        "class LargeOrderPromo(Promotion)    # 세번째 구체적인 전략\n",
        "    \"\"\"10종류 이상의 상품을 구입하면 전체 7% 할인 적용\"\"\"\n",
        "\n",
        "    def discount(self, order):\n",
        "        discount_item = {item.product for item in order.cart}\n",
        "        if len(distinct_items) >= 10:\n",
        "            return order.total() * 0.07\n",
        "        return 0\n",
        "\n",
        "\n",
        "\n",
        "\n",
        "\n",
        "\n",
        "\n",
        "\n"
      ],
      "metadata": {
        "id": "rb6mkTQayvdL"
      },
      "execution_count": null,
      "outputs": []
    }
  ]
}