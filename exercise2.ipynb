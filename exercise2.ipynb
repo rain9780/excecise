{
 "cells": [
  {
   "cell_type": "code",
   "execution_count": null,
   "metadata": {
    "id": "mLUN_xeK1OLC"
   },
   "outputs": [],
   "source": [
    "! pip install langchain langchain-google-genai pillow anthropic"
   ]
  },
  {
   "cell_type": "code",
   "execution_count": 4,
   "metadata": {
    "colab": {
     "base_uri": "https://localhost:8080/"
    },
    "id": "3txpF9wqz5_m",
    "outputId": "ee6c9f61-7f72-4ed6-a4a8-5f49a06e608c"
   },
   "outputs": [
    {
     "data": {
      "text/plain": [
       "PromptTemplate(input_variables=['개수', '재료'], input_types={}, partial_variables={}, template='\\n        너는 요리사야. 내가 가진 재료들을 갖고 만들 수 있는 요리를 {개수}개를 추천하고,\\n        그 요리의 레시피를 제시해줘. 내가 가진 재료는 아래와 같아.\\n        {재료}\\n        ')"
      ]
     },
     "execution_count": 4,
     "metadata": {},
     "output_type": "execute_result"
    }
   ],
   "source": [
    "from langchain.prompts import PromptTemplate\n",
    "\n",
    "prompt=(\n",
    "    PromptTemplate.from_template(\n",
    "        \"\"\"\n",
    "        너는 요리사야. 내가 가진 재료들을 갖고 만들 수 있는 요리를 {개수}개를 추천하고,\n",
    "        그 요리의 레시피를 제시해줘. 내가 가진 재료는 아래와 같아.\n",
    "        {재료}\n",
    "        \"\"\"\n",
    "    )\n",
    ")\n",
    "\n",
    "prompt"
   ]
  },
  {
   "cell_type": "code",
   "execution_count": 5,
   "metadata": {
    "colab": {
     "base_uri": "https://localhost:8080/",
     "height": 54
    },
    "id": "qS5tqETbr11n",
    "outputId": "bc13ee95-57a6-417a-c923-b6f544a1f8bf"
   },
   "outputs": [
    {
     "data": {
      "application/vnd.google.colaboratory.intrinsic+json": {
       "type": "string"
      },
      "text/plain": [
       "'\\n        너는 요리사야. 내가 가진 재료들을 갖고 만들 수 있는 요리를 3개를 추천하고,\\n        그 요리의 레시피를 제시해줘. 내가 가진 재료는 아래와 같아.\\n        사과, 양파, 계란\\n        '"
      ]
     },
     "execution_count": 5,
     "metadata": {},
     "output_type": "execute_result"
    }
   ],
   "source": [
    "prompt.format(개수=3, 재료=\"사과, 양파, 계란\")"
   ]
  },
  {
   "cell_type": "code",
   "execution_count": 68,
   "metadata": {
    "id": "OlWp6f-xDA4S"
   },
   "outputs": [],
   "source": [
    "import getpass\n",
    "import os\n",
    "from langchain_google_genai import ChatGoogleGenerativeAI\n",
    "from langchain.schema import HumanMessage, SystemMessage, AIMessage\n",
    "from langchain.prompts import ChatPromptTemplate\n",
    "\n",
    "if \"GOOGLE_API_KEY\" not in os.environ:\n",
    "    os.environ[\"GOOGLE_API_KEY\"] = getpass.getpass(\"Google AI API 키를 입력하세요: \")\n",
    "\n",
    "messages = [\n",
    "    SystemMessage(content=\"당신은 친절하고 도움이 되는 AI 비서입니다.\"),\n",
    "    HumanMessage(content=\"오늘 날씨 어때?\"),\n",
    "    AIMessage(content=\"오늘 날씨는 맑고 화창합니다.\"),\n",
    "    HumanMessage(content=\"f{user_input}\"),\n",
    "]\n",
    "\n",
    "# Access the correct element in the list and format its content\n",
    "# new_prompt[2] = HumanMessage(content=new_prompt[2].content.format(input=\"오늘 너의 기분은 어때?\"))\n",
    "\n",
    "llm = ChatGoogleGenerativeAI(model=\"gemini-pro\")"
   ]
  },
  {
   "cell_type": "code",
   "execution_count": 72,
   "metadata": {
    "colab": {
     "base_uri": "https://localhost:8080/"
    },
    "id": "j2CRQpraIp5A",
    "outputId": "60c79203-39ac-4d52-de66-b2068c049630"
   },
   "outputs": [
    {
     "name": "stdout",
     "output_type": "stream",
     "text": [
      "죄송합니다. 위치 정보가 없어서 오늘 날씨를 알려드릴 수 없습니다. 위치를 알려주시면 오늘 날씨를 알려드리겠습니다.\n",
      "\n"
     ]
    }
   ],
   "source": [
    "from langchain.chains import LLMChain\n",
    "from langchain_google_genai import ChatGoogleGenerativeAI\n",
    "\n",
    "model= ChatGoogleGenerativeAI(model=\"gemini-1.5-pro-latest\", temperature=0)\n",
    "prompt = ChatPromptTemplate.from_messages(messages)\n",
    "chain = LLMChain(llm=model, prompt=prompt)\n",
    "response = chain.invoke({\"user_input\":\"오늘 한국 세종자치시의 온도는 어때?\"})\n",
    "print(response['text'])"
   ]
  },
  {
   "cell_type": "code",
   "execution_count": 73,
   "metadata": {
    "colab": {
     "base_uri": "https://localhost:8080/"
    },
    "id": "8brC19W04GVl",
    "outputId": "54131126-a3ee-40c2-803e-b3770f344344"
   },
   "outputs": [
    {
     "name": "stdout",
     "output_type": "stream",
     "text": [
      "Question:아이유로 삼행시 만들어줘\n",
      "\n",
      "        아: 아이유는\n",
      "        이: 이런 강의를 들을 이\n",
      "        유: 유가 없다.\n",
      "        \n"
     ]
    }
   ],
   "source": [
    "from langchain.prompts.few_shot import FewShotChatMessagePromptTemplate\n",
    "from langchain.prompts.prompt import PromptTemplate\n",
    "\n",
    "examples=[\n",
    "    {\n",
    "        \"question\":\"아이유로 삼행시 만들어줘\",\n",
    "        \"answer\":\n",
    "        \"\"\"\n",
    "        아: 아이유는\n",
    "        이: 이런 강의를 들을 이\n",
    "        유: 유가 없다.\n",
    "        \"\"\"\n",
    "    }\n",
    "]\n",
    "\n",
    "example_prompt=PromptTemplate(\n",
    "    input_variables=[\"question\",\"answer\"],\n",
    "    template=\"Question:{question}\\n{answer}\"\n",
    ")\n",
    "\n",
    "print(example_prompt.format(**examples[0]))"
   ]
  },
  {
   "cell_type": "code",
   "execution_count": null,
   "metadata": {
    "id": "1P6WVUh74GY_"
   },
   "outputs": [],
   "source": []
  },
  {
   "cell_type": "code",
   "execution_count": null,
   "metadata": {
    "id": "5yTqvdvI4Gck"
   },
   "outputs": [],
   "source": []
  },
  {
   "cell_type": "code",
   "execution_count": null,
   "metadata": {
    "id": "q7WRzdHb4Gew"
   },
   "outputs": [],
   "source": []
  },
  {
   "cell_type": "code",
   "execution_count": null,
   "metadata": {
    "id": "145uucHW4Gjl"
   },
   "outputs": [],
   "source": []
  },
  {
   "cell_type": "code",
   "execution_count": null,
   "metadata": {
    "id": "xgRwkqoh4Gm3"
   },
   "outputs": [],
   "source": []
  },
  {
   "cell_type": "code",
   "execution_count": null,
   "metadata": {
    "id": "lPsXHKEF4Gpm"
   },
   "outputs": [],
   "source": []
  },
  {
   "cell_type": "code",
   "execution_count": null,
   "metadata": {
    "id": "e89E0eyi4Gv4"
   },
   "outputs": [],
   "source": []
  },
  {
   "cell_type": "code",
   "execution_count": null,
   "metadata": {
    "id": "NTcgNA6Rr18b"
   },
   "outputs": [],
   "source": [
    "import anthropic\n",
    "import getpass\n",
    "import os\n",
    "from langchain_google_genai import ChatGoogleGenerativeAI\n",
    "\n",
    "if \"GOOGLE_API_KEY\" not in os.environ:\n",
    "    os.environ[\"GOOGLE_API_KEY\"] = getpass.getpass(\"Google AI API 키를 입력하세요: \")\n",
    "\n",
    "# Gemini Pro 모델을 사용하는 경우\n",
    "llm = ChatGoogleGenerativeAI(model=\"gemini-pro\")\n",
    "\n",
    "# Gemini Ultra 모델을 사용하는 경우\n",
    "# llm = ChatGoogleGenerativeAI(model=\"gemini-ultra\")\n",
    "\n",
    "# 모델을 사용하여 텍스트 생성\n",
    "result = llm.invoke(\"안녕하세요. 한국어로 응답해주세요.오늘이 23년 11월 8일인가요?\")\n",
    "print(result.content)"
   ]
  },
  {
   "cell_type": "code",
   "execution_count": null,
   "metadata": {
    "id": "jzEKxdTcCeR6"
   },
   "outputs": [],
   "source": []
  },
  {
   "cell_type": "code",
   "execution_count": 18,
   "metadata": {
    "colab": {
     "base_uri": "https://localhost:8080/",
     "height": 1000
    },
    "id": "ItaUTseDAF4I",
    "outputId": "8f747852-2c18-4a27-bb85-3d830497c62b"
   },
   "outputs": [
    {
     "name": "stdout",
     "output_type": "stream",
     "text": [
      "Requirement already satisfied: matplotlib in /usr/local/lib/python3.10/dist-packages (3.8.0)\n",
      "Requirement already satisfied: contourpy>=1.0.1 in /usr/local/lib/python3.10/dist-packages (from matplotlib) (1.3.1)\n",
      "Requirement already satisfied: cycler>=0.10 in /usr/local/lib/python3.10/dist-packages (from matplotlib) (0.12.1)\n",
      "Requirement already satisfied: fonttools>=4.22.0 in /usr/local/lib/python3.10/dist-packages (from matplotlib) (4.55.0)\n",
      "Requirement already satisfied: kiwisolver>=1.0.1 in /usr/local/lib/python3.10/dist-packages (from matplotlib) (1.4.7)\n",
      "Requirement already satisfied: numpy<2,>=1.21 in /usr/local/lib/python3.10/dist-packages (from matplotlib) (1.26.4)\n",
      "Requirement already satisfied: packaging>=20.0 in /usr/local/lib/python3.10/dist-packages (from matplotlib) (24.2)\n",
      "Requirement already satisfied: pillow>=6.2.0 in /usr/local/lib/python3.10/dist-packages (from matplotlib) (11.0.0)\n",
      "Requirement already satisfied: pyparsing>=2.3.1 in /usr/local/lib/python3.10/dist-packages (from matplotlib) (3.2.0)\n",
      "Requirement already satisfied: python-dateutil>=2.7 in /usr/local/lib/python3.10/dist-packages (from matplotlib) (2.8.2)\n",
      "Requirement already satisfied: six>=1.5 in /usr/local/lib/python3.10/dist-packages (from python-dateutil>=2.7->matplotlib) (1.16.0)\n"
     ]
    },
    {
     "name": "stderr",
     "output_type": "stream",
     "text": [
      "<ipython-input-18-08cdcad971a8>:28: UserWarning: Glyph 50900 (\\N{HANGUL SYLLABLE WEOL}) missing from current font.\n",
      "  plt.tight_layout()  # 레이아웃 조정\n",
      "<ipython-input-18-08cdcad971a8>:28: UserWarning: Glyph 44053 (\\N{HANGUL SYLLABLE GANG}) missing from current font.\n",
      "  plt.tight_layout()  # 레이아웃 조정\n",
      "<ipython-input-18-08cdcad971a8>:28: UserWarning: Glyph 49688 (\\N{HANGUL SYLLABLE SU}) missing from current font.\n",
      "  plt.tight_layout()  # 레이아웃 조정\n",
      "<ipython-input-18-08cdcad971a8>:28: UserWarning: Glyph 47049 (\\N{HANGUL SYLLABLE RYANG}) missing from current font.\n",
      "  plt.tight_layout()  # 레이아웃 조정\n",
      "<ipython-input-18-08cdcad971a8>:28: UserWarning: Glyph 54620 (\\N{HANGUL SYLLABLE HAN}) missing from current font.\n",
      "  plt.tight_layout()  # 레이아웃 조정\n",
      "<ipython-input-18-08cdcad971a8>:28: UserWarning: Glyph 44397 (\\N{HANGUL SYLLABLE GUG}) missing from current font.\n",
      "  plt.tight_layout()  # 레이아웃 조정\n",
      "<ipython-input-18-08cdcad971a8>:28: UserWarning: Glyph 49464 (\\N{HANGUL SYLLABLE SE}) missing from current font.\n",
      "  plt.tight_layout()  # 레이아웃 조정\n",
      "<ipython-input-18-08cdcad971a8>:28: UserWarning: Glyph 51333 (\\N{HANGUL SYLLABLE JONG}) missing from current font.\n",
      "  plt.tight_layout()  # 레이아웃 조정\n",
      "<ipython-input-18-08cdcad971a8>:28: UserWarning: Glyph 48324 (\\N{HANGUL SYLLABLE BYEOL}) missing from current font.\n",
      "  plt.tight_layout()  # 레이아웃 조정\n",
      "<ipython-input-18-08cdcad971a8>:28: UserWarning: Glyph 54217 (\\N{HANGUL SYLLABLE PYEONG}) missing from current font.\n",
      "  plt.tight_layout()  # 레이아웃 조정\n",
      "<ipython-input-18-08cdcad971a8>:28: UserWarning: Glyph 44512 (\\N{HANGUL SYLLABLE GYUN}) missing from current font.\n",
      "  plt.tight_layout()  # 레이아웃 조정\n"
     ]
    },
    {
     "data": {
      "image/png": "[encoded data removed]",
      "text/plain": [
       "<Figure size 1000x600 with 1 Axes>"
      ]
     },
     "metadata": {},
     "output_type": "display_data"
    }
   ],
   "source": [
    "!pip install matplotlib\n",
    "\n",
    "import matplotlib.pyplot as plt\n",
    "import calendar\n",
    "\n",
    "# 한국 세종의 월별 평균 강수량 (단위: mm) - 출처: 기상청\n",
    "# 데이터는 예시이며, 실제 데이터와 다를 수 있습니다.\n",
    "monthly_rainfall = {\n",
    "    \"1월\": 34.5, \"2월\": 38.1, \"3월\": 64.3, \"4월\": 88.2,\n",
    "    \"5월\": 105.7, \"6월\": 154.8, \"7월\": 285.4, \"8월\": 272.7,\n",
    "    \"9월\": 147.5, \"10월\": 55.1, \"11월\": 44.6, \"12월\": 26.5\n",
    "}\n",
    "\n",
    "# 월 이름을 한국어로 표시하기 위해 calendar 모듈 사용\n",
    "months = [calendar.month_name[i] for i in range(1, 13)]\n",
    "months_korean = [\"1월\", \"2월\", \"3월\", \"4월\", \"5월\", \"6월\", \"7월\", \"8월\", \"9월\", \"10월\", \"11월\", \"12월\"]\n",
    "\n",
    "# 강수량 데이터 추출\n",
    "rainfall_values = [monthly_rainfall[month] for month in months_korean]\n",
    "\n",
    "# 그래프 생성\n",
    "plt.figure(figsize=(10, 6))  # 그래프 크기 설정\n",
    "plt.bar(months_korean, rainfall_values, color='skyblue')  # 막대 그래프 생성\n",
    "plt.title(\"한국 세종 월별 평균 강수량\", fontsize=16)  # 제목 설정\n",
    "plt.xlabel(\"월\", fontsize=12)  # x축 레이블 설정\n",
    "plt.ylabel(\"강수량 (mm)\", fontsize=12)  # y축 레이블 설정\n",
    "plt.xticks(rotation=45, ha='right')  # x축 눈금 레이블 회전\n",
    "plt.tight_layout()  # 레이아웃 조정\n",
    "plt.show()  # 그래프 표시"
   ]
  },
  {
   "cell_type": "code",
   "execution_count": null,
   "metadata": {
    "id": "fPg2YGgK1IBH"
   },
   "outputs": [],
   "source": []
  },
  {
   "cell_type": "code",
   "execution_count": null,
   "metadata": {
    "id": "qVVg0A2B1KHW"
   },
   "outputs": [],
   "source": []
  },
  {
   "cell_type": "code",
   "execution_count": null,
   "metadata": {
    "id": "f5wlrSZ_yNN5"
   },
   "outputs": [],
   "source": []
  },
  {
   "cell_type": "code",
   "execution_count": null,
   "metadata": {
    "id": "J9k3PR0LyNWe"
   },
   "outputs": [],
   "source": []
  },
  {
   "cell_type": "code",
   "execution_count": null,
   "metadata": {
    "id": "UwTaiaGkyNZI"
   },
   "outputs": [],
   "source": []
  },
  {
   "cell_type": "code",
   "execution_count": null,
   "metadata": {
    "id": "ePQBLcqOyNb4"
   },
   "outputs": [],
   "source": []
  },
  {
   "cell_type": "code",
   "execution_count": null,
   "metadata": {
    "id": "XoClYkMgyNeb"
   },
   "outputs": [],
   "source": []
  },
  {
   "cell_type": "code",
   "execution_count": null,
   "metadata": {
    "id": "rMX6b5uCyNg5"
   },
   "outputs": [],
   "source": []
  },
  {
   "cell_type": "code",
   "execution_count": null,
   "metadata": {
    "id": "k0TpWZyGr1-M"
   },
   "outputs": [],
   "source": [
    "import bisect"
   ]
  },
  {
   "cell_type": "code",
   "execution_count": null,
   "metadata": {
    "id": "VkPufoQjzR5O"
   },
   "outputs": [],
   "source": [
    "def grade(score, breakpoint=[60, 70, 80, 90], grades='FDCBA'):\n",
    "    i = bisect.bisect(breakpoint, score)\n",
    "    return grades[i]"
   ]
  },
  {
   "cell_type": "code",
   "execution_count": null,
   "metadata": {
    "colab": {
     "base_uri": "https://localhost:8080/"
    },
    "id": "w6gbGotv0vH4",
    "outputId": "13e468d0-d621-426f-ad6d-e897f5453269"
   },
   "outputs": [
    {
     "data": {
      "text/plain": [
       "['F', 'A', 'C', 'C', 'B', 'A', 'A']"
      ]
     },
     "execution_count": 26,
     "metadata": {},
     "output_type": "execute_result"
    }
   ],
   "source": [
    "[grade(score) for score in [33, 99, 77, 70, 89, 90, 100]]"
   ]
  },
  {
   "cell_type": "markdown",
   "metadata": {
    "id": "D7r-VpST5N3L"
   },
   "source": [
    "\n",
    "bisect.bisect() 함수는 이진 탐색 알고리즘을 사용하여 정렬된 리스트에 값을 삽입할 때 정렬을 유지할 수 있는 인덱스를 반환하는 함수입니다.\n",
    "\n",
    "Python\n",
    "\n",
    "    import bisect\n",
    "    a = [1, 2, 3, 4, 5]\n",
    "    bisect.bisect(a, 3)\n",
    "\n",
    "\n",
    "bisect.bisect() 함수는 다음과 같은 매개변수를 사용합니다.\n",
    "\n",
    "    a: 정렬된 리스트\n",
    "    x: 삽입할 값\n",
    "    lo: 고려할 리스트의 부분집합의 시작 인덱스 (기본값: 0)\n",
    "    hi: 고려할 리스트의 부분집합의 끝 인덱스 (기본값: a의 길이)\n",
    "bisect.bisect() 함수는 다음과 같은 방식으로 작동합니다.\n",
    "\n",
    "1. a의 중간 인덱스를 찾습니다.\n",
    "1. a의 중간 인덱스에 있는 값과 x를 비교합니다.\n",
    "1. x가 중간 인덱스에 있는 값보다 작으면, a의 왼쪽 부분집합을 대상으로 다시 이진 탐색을 수행합니다.\n",
    "1. x가 중간 인덱스에 있는 값보다 크거나 같으면, a의 오른쪽 부분집합을 대상으로 다시 이진 탐색을 수행합니다.\n",
    "1. 이 과정을 반복하여 x가 **a에 삽입될 수 있는 위치**를 찾습니다.\n"
   ]
  },
  {
   "cell_type": "code",
   "execution_count": null,
   "metadata": {
    "id": "d2mOKOhnLh6v"
   },
   "outputs": [],
   "source": [
    "import random\n",
    "\n",
    "class BingoCage:\n",
    "\n",
    "    def __init__(self, items):\n",
    "        self._items = list(items)\n",
    "        random.shuffle(self._items)\n",
    "\n",
    "    def pick(self):\n",
    "        try:\n",
    "            return self._items.pop()\n",
    "        except IndexError:\n",
    "            raise LookupError('pick from empty BingoCage')\n",
    "\n",
    "    def __call__(self):\n",
    "        return self.pick()"
   ]
  },
  {
   "cell_type": "code",
   "execution_count": null,
   "metadata": {
    "colab": {
     "base_uri": "https://localhost:8080/"
    },
    "id": "qTPnbDTbN9xT",
    "outputId": "6c5a259c-1535-46a3-a8bc-02e839471834"
   },
   "outputs": [
    {
     "name": "stdout",
     "output_type": "stream",
     "text": [
      "2\n"
     ]
    },
    {
     "data": {
      "text/plain": [
       "1"
      ]
     },
     "execution_count": 6,
     "metadata": {},
     "output_type": "execute_result"
    }
   ],
   "source": [
    "bingo = BingoCage(range(3))\n",
    "print(bingo.pick())\n",
    "bingo()"
   ]
  },
  {
   "cell_type": "code",
   "execution_count": null,
   "metadata": {
    "id": "8JtzXueoTZI2"
   },
   "outputs": [],
   "source": [
    "def tag(name, *content, cls=None, **attrs):\n",
    "    if cls is not None:\n",
    "        attrs['class'] = cls\n",
    "    if attrs:\n",
    "        attr_str= ''.join(' %s= \"%s\"' % (attr, value) for attr, value in sorted(attrs.items()))\n",
    "    else:\n",
    "        attr_str=''\n",
    "    if content:\n",
    "        return '\\n'.join('<%s%s>%s</%s>' % (name, attr_str, c, name) for c in content)\n",
    "    else:\n",
    "        return '<%s%s />' % (name, attr_str)"
   ]
  },
  {
   "cell_type": "code",
   "execution_count": null,
   "metadata": {
    "colab": {
     "base_uri": "https://localhost:8080/",
     "height": 182
    },
    "id": "K1AQb4hWvhO5",
    "outputId": "ef6bb8a7-2029-4aad-8d1b-fdcc1a981da0"
   },
   "outputs": [
    {
     "name": "stdout",
     "output_type": "stream",
     "text": [
      "<br />\n",
      "<p>hello</p>\n",
      "<p>hello</p>\n",
      "<p>world</p>\n",
      "<p id= \"33\">hello</p>\n",
      "<p class= \"sidebar\">hello</p>\n",
      "<p class= \"sidebar\">world</p>\n",
      "<img content= \"testing\" />\n"
     ]
    },
    {
     "data": {
      "application/vnd.google.colaboratory.intrinsic+json": {
       "type": "string"
      },
      "text/plain": [
       "'<img class= \"framed\" src= \"sunset.jpg\" title= \"Sunset Boulevard\" />'"
      ]
     },
     "execution_count": 25,
     "metadata": {},
     "output_type": "execute_result"
    }
   ],
   "source": [
    "print(tag('br'))    # 위치 인수하나만 사용해서 호출하면 이름을 가진 빈 태그를 생성한다.\n",
    "print(tag('p', 'hello'))    # 첫번째 이후의 인수들은 모두 *content 매개변수에 튜플로 전달된다.\n",
    "print(tag('p', 'hello', 'world'))\n",
    "print(tag('p', 'hello', id=33))    # tag 시그니처에 명시적으로 이름이 지정되지 않은 키워드 인수들은 딕셔너리로 **attrs 인수에 전달된다\n",
    "print(tag('p', 'hello', 'world', cls='sidebar'))\n",
    "print(tag(content='testing', name='img'))\n",
    "my_tag= {'name':'img', 'title':'Sunset Boulevard', 'src':'sunset.jpg', 'cls':'framed'}\n",
    "tag(**my_tag)"
   ]
  },
  {
   "cell_type": "code",
   "execution_count": null,
   "metadata": {
    "colab": {
     "base_uri": "https://localhost:8080/"
    },
    "id": "6ZmIKwXIvhw0",
    "outputId": "fd5d6999-f744-4412-ab09-2d5f3ec6c36d"
   },
   "outputs": [
    {
     "name": "stdout",
     "output_type": "stream",
     "text": [
      "21\n"
     ]
    },
    {
     "data": {
      "text/plain": [
       "[3, 6, 9, 12, 15, 18, 21, 24, 27]"
      ]
     },
     "execution_count": 26,
     "metadata": {},
     "output_type": "execute_result"
    }
   ],
   "source": [
    "from operator import mul\n",
    "from functools import partial\n",
    "triple = partial(mul, 3)    # mul()함수의 첫번째 위치인수를 3으로 바인딩해서 triple() 함수 생성\n",
    "print(triple(7))\n",
    "list(map(triple, range(1, 10)))"
   ]
  },
  {
   "cell_type": "code",
   "execution_count": null,
   "metadata": {
    "colab": {
     "base_uri": "https://localhost:8080/"
    },
    "id": "ZGY0Bhkdb2CH",
    "outputId": "6f8b26b9-8c7e-4db5-fc93-14e3908d4c92"
   },
   "outputs": [
    {
     "name": "stdout",
     "output_type": "stream",
     "text": [
      "False\n",
      "café\n",
      "café\n"
     ]
    }
   ],
   "source": [
    "import unicodedata, functools\n",
    "nfc = functools.partial(unicodedata.normalize, 'NFC')\n",
    "s1 = 'cafe\\u0301'\n",
    "print(s1 == nfc(s1))\n",
    "print(s1)\n",
    "print(nfc(s1))"
   ]
  },
  {
   "cell_type": "markdown",
   "metadata": {
    "id": "xhDlIaiN_0N7"
   },
   "source": [
    "파이썬 데코레이터는 함수에 추가 기능을 제공하는 기능입니다. 데코레이터는 함수를 감싸는 형태로 구성되며, 함수를 호출할 때마다 데코레이터가 먼저 실행됩니다.\n",
    "\n",
    "데코레이터를 사용하면 기존 함수를 수정하지 않고도 추가 기능을 구현할 수 있습니다. 예를 들어, 다음과 같은 함수가 있다고 가정해 보겠습니다.\n",
    "```\n",
    "Python\n",
    "def hello(name):\n",
    "    print(\"안녕하세요, {}님!\".format(name))\n",
    "```\n",
    "코드를 사용할 때는 주의가 필요합니다. 자세히 알아보기\n",
    "이 함수를 데코레이터를 사용하여 실행 시간 측정 기능을 추가해 보겠습니다.\n",
    "```\n",
    "Python\n",
    "import time\n",
    "def timer(func):\n",
    "    def wrapper(*args, **kwargs):\n",
    "        start = time.time()\n",
    "        func(*args, **kwargs)\n",
    "        end = time.time()\n",
    "        print(\"실행 시간: {}초\".format(end - start))\n",
    "    return wrapper\n",
    "\n",
    "@timer\n",
    "def hello(name):\n",
    "    print(\"안녕하세요, {}님!\".format(name))\n",
    "hello(\"홍길동\")\n",
    "```\n",
    "코드를 사용할 때는 주의가 필요합니다. 자세히 알아보기\n",
    "위 코드는 timer() 데코레이터를 사용하여 hello() 함수에 실행 시간 측정 기능을 추가했습니다. timer() 데코레이터는 hello() 함수를 감싸는 wrapper() 함수를 반환합니다. wrapper() 함수는 hello() 함수를 호출하기 전에 실행 시간 측정을 시작하고, hello() 함수를 호출한 후 실행 시간 측정을 종료합니다.\n",
    "\n",
    "데코레이터를 사용하면 다음과 같은 다양한 기능을 추가할 수 있습니다.\n",
    "\n",
    "함수 호출 전후에 로그를 남기는 기능\n",
    "함수의 매개변수나 반환값을 제한하는 기능\n",
    "함수의 실행 속도를 측정하는 기능\n",
    "데코레이터는 파이썬에서 매우 유용한 기능으로, 다양한 상황에서 활용할 수 있습니다.\n",
    "\n",
    "데코레이터를 사용하기 위해서는 다음과 같은 두 가지 방법이 있습니다.\n",
    "\n",
    "함수 선언 앞에 데코레이터를 지정하는 방법\n",
    "```\n",
    "Python\n",
    "@timer\n",
    "def hello(name):\n",
    "    print(\"안녕하세요, {}님!\".format(name))\n",
    "코드를 사용할 때는 주의가 필요합니다. 자세히 알아보기\n",
    "함수 정의 후에 데코레이터를 적용하는 방법\n",
    "Python\n",
    "def hello(name):\n",
    "    print(\"안녕하세요, {}님!\".format(name))\n",
    "\n",
    "hello = timer(hello)\n",
    "```\n",
    "코드를 사용할 때는 주의가 필요합니다. 자세히 알아보기\n",
    "두 가지 방법은 모두 동일한 결과를 가집니다."
   ]
  },
  {
   "cell_type": "code",
   "execution_count": null,
   "metadata": {
    "colab": {
     "base_uri": "https://localhost:8080/"
    },
    "id": "UL7tuSLB9xQN",
    "outputId": "c52c123f-568e-4404-ab5b-be7bbfa0e812"
   },
   "outputs": [
    {
     "name": "stdout",
     "output_type": "stream",
     "text": [
      "안녕하세요, 홍길동님!\n",
      "실행 시간: 0.0005860328674316406초\n"
     ]
    }
   ],
   "source": [
    "import time\n",
    "\n",
    "def timer(func):\n",
    "    def wrapper(*args, **kwargs):\n",
    "        start = time.time()\n",
    "        func(*args, **kwargs)\n",
    "        end = time.time()\n",
    "        print(\"실행 시간: {}초\".format(end - start))\n",
    "    return wrapper\n",
    "\n",
    "@timer\n",
    "def hello(name):\n",
    "    print(\"안녕하세요, {}님!\".format(name))\n",
    "\n",
    "hello(\"홍길동\")"
   ]
  },
  {
   "cell_type": "code",
   "execution_count": null,
   "metadata": {
    "id": "rb6mkTQayvdL"
   },
   "outputs": [],
   "source": [
    "from abc import ABC, abstractmethod\n",
    "from collections import namedtuple\n",
    "\n",
    "Customer = namedtuple('Customer', 'name fidelity')\n",
    "\n",
    "class Lineitem:\n",
    "\n",
    "    def __init__(self, product, quantity, price):\n",
    "        self.product = product\n",
    "        self.quantity = quantity\n",
    "        self.price\n",
    "\n",
    "    def total(self):\n",
    "        return self.price * self.quantity\n",
    "\n",
    "\n",
    "class Oder:\n",
    "\n",
    "    def __init__(self, customer, cart, promotion=None):\n",
    "        self.customer = customer\n",
    "        self.cart = list(cart)\n",
    "        self.promotion = promotion\n",
    "\n",
    "    def total(self):\n",
    "        if not hasattr(self, '__total'):\n",
    "            self.__total = sum(item.total() for item in self.cart)\n",
    "        return self.__total\n",
    "\n",
    "    def due(self):\n",
    "        if self.promotion is None:\n",
    "            discount = 0\n",
    "        else:\n",
    "            discount = self.promotion.discount(self)\n",
    "        return self.total() - discount\n",
    "\n",
    "    def __repr__(self):\n",
    "        fmt = '<Order total: {:.2f} due: {:.2f}>'\n",
    "        return fmt.format(self.total(), self.due())\n",
    "\n",
    "class Promotion(ABC)    # 전략: 추상베이스 클래스\n",
    "\n",
    "    @abstractmethod\n",
    "    def discount(self, order):\n",
    "        \"\"\"할인액을 구체적인 숫자로 반환한다.\"\"\"\n",
    "\n",
    "class FidelityPromo(Promotion):    # 첫번째 구체적인 전략\n",
    "    \"\"\"충성도 포인트가 1000점 이상인 고객에게 전체 5% 할인 적용\"\"\"\n",
    "\n",
    "    def discount(self, order):\n",
    "        return order.total() * 0.05 if order.customer.fidelity >= 1000 else 0\n",
    "\n",
    "class BulkItemPromo(Promotion):   # 두번째 구체적인 전략\n",
    "    \"\"\"20개 이상의 동일 상품을 구입하면 10% 할인 적용\"\"\"\n",
    "\n",
    "    def discount(self, order):\n",
    "        discount = 0\n",
    "        for item in order.cart:\n",
    "            if item.quantity >= 20:\n",
    "                discount += item.total() * 0.1\n",
    "        return discount\n",
    "\n",
    "class LargeOrderPromo(Promotion)    # 세번째 구체적인 전략\n",
    "    \"\"\"10종류 이상의 상품을 구입하면 전체 7% 할인 적용\"\"\"\n",
    "\n",
    "    def discount(self, order):\n",
    "        discount_item = {item.product for item in order.cart}\n",
    "        if len(distinct_items) >= 10:\n",
    "            return order.total() * 0.07\n",
    "        return 0\n",
    "\n",
    "\n",
    "\n",
    "\n",
    "\n",
    "\n",
    "\n",
    "\n"
   ]
  }
 ],
 "metadata": {
  "colab": {
   "provenance": []
  },
  "kernelspec": {
   "display_name": "Python 3 (ipykernel)",
   "language": "python",
   "name": "python3"
  },
  "language_info": {
   "codemirror_mode": {
    "name": "ipython",
    "version": 3
   },
   "file_extension": ".py",
   "mimetype": "text/x-python",
   "name": "python",
   "nbconvert_exporter": "python",
   "pygments_lexer": "ipython3",
   "version": "3.10.9"
  }
 },
 "nbformat": 4,
 "nbformat_minor": 1
}
