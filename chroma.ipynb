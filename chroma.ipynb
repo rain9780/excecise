{
  "nbformat": 4,
  "nbformat_minor": 0,
  "metadata": {
    "colab": {
      "provenance": []
    },
    "kernelspec": {
      "name": "python3",
      "display_name": "Python 3"
    },
    "language_info": {
      "name": "python"
    }
  },
  "cells": [
    {
      "cell_type": "code",
      "source": [
        " ! pip install -U langchain-community\n",
        " ! pip install -U pypdf\n",
        " ! pip install -U langchain-google-genai\n",
        " ! pip install -U chromadb\n",
        "# !pip install langchain-chroma"
      ],
      "metadata": {
        "id": "mLUN_xeK1OLC"
      },
      "execution_count": null,
      "outputs": []
    },
    {
      "cell_type": "code",
      "source": [
        "from google.colab import drive\n",
        "drive.mount('/content/drive')"
      ],
      "metadata": {
        "colab": {
          "base_uri": "https://localhost:8080/"
        },
        "id": "KT19sJMpe5Ij",
        "outputId": "9524be09-e2be-4a8d-a3d9-ea4c2d7530c3"
      },
      "execution_count": 1,
      "outputs": [
        {
          "output_type": "stream",
          "name": "stdout",
          "text": [
            "Mounted at /content/drive\n"
          ]
        }
      ]
    },
    {
      "cell_type": "code",
      "source": [
        "import getpass\n",
        "import os\n",
        "from langchain.document_loaders import PyPDFLoader\n",
        "from langchain.text_splitter import RecursiveCharacterTextSplitter\n",
        "from langchain_google_genai import GoogleGenerativeAIEmbeddings\n",
        "from langchain.vectorstores import Chroma\n",
        "import google.generativeai as genai\n",
        "\n",
        "if \"GOOGLE_API_KEY\" not in os.environ:\n",
        "    os.environ[\"GOOGLE_API_KEY\"] = getpass.getpass(\"Google AI API 키를 입력하세요: \")\n",
        "\n",
        "google_api_key = os.environ.get(\"GOOGLE_API_KEY\")\n",
        "\n",
        "google_embeding = GoogleGenerativeAIEmbeddings(\n",
        "    model=\"models/embedding-001\",\n",
        "    google_api_key=google_api_key\n",
        "    )\n",
        "\n",
        "loader = PyPDFLoader(r\"/content/drive/MyDrive/Colab Notebooks/대한민국헌법(헌법)(제00010호)(19880225).pdf\")\n",
        "pages = loader.load_and_split()\n",
        "\n",
        "text_splitter = RecursiveCharacterTextSplitter(\n",
        "    chunk_size=500,\n",
        "    chunk_overlap=0,\n",
        "    length_function=len,\n",
        ")\n",
        "docs=text_splitter.split_documents(pages)\n",
        "\n",
        "db = Chroma.from_documents(docs, google_embeding)\n",
        "docs = text_splitter.split_documents(pages)"
      ],
      "metadata": {
        "id": "ieu7TGtCPjWt"
      },
      "execution_count": null,
      "outputs": []
    },
    {
      "cell_type": "code",
      "source": [
        "docs[-1]"
      ],
      "metadata": {
        "colab": {
          "base_uri": "https://localhost:8080/"
        },
        "id": "KZgqh_fkeT5T",
        "outputId": "064d702b-1ee5-4221-fd77-87b76fc38909"
      },
      "execution_count": null,
      "outputs": [
        {
          "output_type": "execute_result",
          "data": {
            "text/plain": [
              "Document(metadata={'source': '/content/drive/MyDrive/Colab Notebooks/대한민국헌법(헌법)(제00010호)(19880225).pdf', 'page': 13, 'page_label': '14'}, page_content='법제처                                                            14                                                       국가법령정보센터\\n대한민국헌법\\n제5조 이 헌법시행 당시의 법령과 조약은 이 헌법에 위배되지 아니하는 한 그 효력을 지속한다.\\n제6조 이 헌법시행 당시에 이 헌법에 의하여 새로 설치될 기관의 권한에 속하는 직무를 행하고 있는 기관은 이 헌법에\\n의하여 새로운 기관이 설치될 때까지 존속하며 그 직무를 행한다.')"
            ]
          },
          "metadata": {},
          "execution_count": 15
        }
      ]
    },
    {
      "cell_type": "code",
      "source": [
        "query=\"제70조의 대통령의 임기는?\"\n",
        "docs = db.similarity_search(query)\n",
        "print(docs[0])\n",
        "db.similarity_search_with_score(query)"
      ],
      "metadata": {
        "id": "vxrUnb4rPjaO"
      },
      "execution_count": null,
      "outputs": []
    },
    {
      "cell_type": "code",
      "source": [
        "#save to disk\n",
        "db2 = Chroma.from_documents(docs, google_embeding, persist_directory=\"./Chroma_db\")\n",
        "\n",
        "#load from disk\n",
        "db3=Chroma(persist_directory=\"./Chroma_db\", embedding_function=google_embeding)\n",
        "result=db3.similarity_search(query)\n",
        "print(result[0].page_content)"
      ],
      "metadata": {
        "colab": {
          "base_uri": "https://localhost:8080/"
        },
        "id": "4_emIUt2PjeB",
        "outputId": "e13c2913-c491-452a-a1fd-cbcc8b718a54"
      },
      "execution_count": null,
      "outputs": [
        {
          "output_type": "stream",
          "name": "stdout",
          "text": [
            "제70조 대통령의 임기는 5년으로 하며, 중임할 수 없다.\n",
            " \n",
            "제71조 대통령이 궐위되거나 사고로 인하여 직무를 수행할 수 없을 때에는 국무총리, 법률이 정한 국무위원의 순서로\n",
            "그 권한을 대행한다.\n",
            " \n",
            "제72조 대통령은 필요하다고 인정할 때에는 외교ㆍ국방ㆍ통일 기타 국가안위에 관한 중요정책을 국민투표에 붙일 수\n",
            "있다.\n",
            " \n",
            "제73조 대통령은 조약을 체결ㆍ비준하고, 외교사절을 신임ㆍ접수 또는 파견하며, 선전포고와 강화를 한다.\n",
            " \n",
            "제74조 ①대통령은 헌법과 법률이 정하는 바에 의하여 국군을 통수한다.\n",
            "②국군의 조직과 편성은 법률로 정한다.\n",
            " \n",
            "제75조 대통령은 법률에서 구체적으로 범위를 정하여 위임받은 사항과 법률을 집행하기 위하여 필요한 사항에 관하여\n",
            "대통령령을 발할 수 있다.\n",
            " \n",
            "제76조 ①대통령은 내우ㆍ외환ㆍ천재ㆍ지변 또는 중대한 재정ㆍ경제상의 위기에 있어서 국가의 안전보장 또는 공공의\n"
          ]
        },
        {
          "output_type": "stream",
          "name": "stderr",
          "text": [
            "<ipython-input-27-bb29cd640ba7>:5: LangChainDeprecationWarning: The class `Chroma` was deprecated in LangChain 0.2.9 and will be removed in 1.0. An updated version of the class exists in the :class:`~langchain-chroma package and should be used instead. To use it run `pip install -U :class:`~langchain-chroma` and import as `from :class:`~langchain_chroma import Chroma``.\n",
            "  db3=Chroma(persist_directory=\"./Chroma_db\", embedding_function=google_embeding)\n"
          ]
        }
      ]
    },
    {
      "cell_type": "code",
      "source": [
        "import chromadb\n",
        "#collection을 저장할 경로 지정\n",
        "client = chromadb.PersistentClient(path=\"./collection_example\")\n",
        "client.heartbeat()"
      ],
      "metadata": {
        "colab": {
          "base_uri": "https://localhost:8080/"
        },
        "id": "cLNAzux5Pjj2",
        "outputId": "4a750797-63a9-4b85-f056-9505329e5f84"
      },
      "execution_count": null,
      "outputs": [
        {
          "output_type": "execute_result",
          "data": {
            "text/plain": [
              "1737594396011648708"
            ]
          },
          "metadata": {},
          "execution_count": 28
        }
      ]
    },
    {
      "cell_type": "code",
      "source": [
        "from chromadb.utils import embedding_functions\n",
        "import chromadb.utils.embedding_functions as embedding_functions\n",
        "\n",
        "embedding_function = embedding_functions.GoogleGenerativeAiEmbeddingFunction(google_api_key)\n",
        "\n",
        "collection=client.get_or_create_collection(name=\"korean_law\", embedding_function=embedding_function)"
      ],
      "metadata": {
        "id": "OuoGzIAEPjoH"
      },
      "execution_count": null,
      "outputs": []
    },
    {
      "cell_type": "code",
      "source": [
        "collection"
      ],
      "metadata": {
        "colab": {
          "base_uri": "https://localhost:8080/"
        },
        "id": "C-X5J-xNPjrH",
        "outputId": "08596df8-70c9-48d6-de5a-bb9bacc2167e"
      },
      "execution_count": null,
      "outputs": [
        {
          "output_type": "execute_result",
          "data": {
            "text/plain": [
              "Collection(name=korean_law)"
            ]
          },
          "metadata": {},
          "execution_count": 35
        }
      ]
    },
    {
      "cell_type": "code",
      "source": [
        "from langchain_text_splitters import RecursiveCharacterTextSplitter\n",
        "from langchain.document_loaders import PyPDFLoader\n",
        "from langchain.vectorstores import Chroma\n",
        "\n",
        "loader=PyPDFLoader(r\"/content/drive/MyDrive/Colab Notebooks/대한민국헌법(헌법)(제00010호)(19880225).pdf\")\n",
        "pages=loader.load_and_split()\n",
        "\n",
        "text_splitter=RecursiveCharacterTextSplitter(\n",
        "    chunk_size=500,\n",
        "    chunk_overlap=0,\n",
        ")\n",
        "docs=text_splitter.split_documents(pages)\n",
        "\n",
        "collection.add(\n",
        "    ids=[str(i) for i in range(len(docs))],\n",
        "    documents=[doc.page_content for doc in docs],\n",
        "    metadatas=[doc.metadata for doc in docs]\n",
        ")"
      ],
      "metadata": {
        "id": "k3YRqaXN1cud"
      },
      "execution_count": null,
      "outputs": []
    },
    {
      "cell_type": "code",
      "source": [
        "Collection=client.get_collection(name=\"korean_law\")"
      ],
      "metadata": {
        "id": "wu3FQQMu3Fty"
      },
      "execution_count": null,
      "outputs": []
    },
    {
      "cell_type": "code",
      "source": [
        "collection.query(\n",
        "    query_texts=[\"직업 선택의 자유\"],\n",
        "    n_results=3,\n",
        "    where={\"page\":1},\n",
        ")"
      ],
      "metadata": {
        "id": "erv1uFs13hDk"
      },
      "execution_count": null,
      "outputs": []
    },
    {
      "cell_type": "code",
      "source": [
        "collection.query(\n",
        "    query_texts=[\"직업 선택의 자유\"],\n",
        "    n_results=3,\n",
        "    where={\"page\":{\"$gte\":5}},\n",
        ")"
      ],
      "metadata": {
        "id": "2QI8Iace4iIx"
      },
      "execution_count": null,
      "outputs": []
    },
    {
      "cell_type": "code",
      "source": [
        "collection.query(\n",
        "    query_texts=[\"직업 선택의 자유\"],\n",
        "    n_results=3,\n",
        "    where={\"page\":1},\n",
        "    where_document={\"$contains\":\"10\"},\n",
        ")"
      ],
      "metadata": {
        "colab": {
          "base_uri": "https://localhost:8080/",
          "height": 329
        },
        "id": "zTh7_qdy48-7",
        "outputId": "1824e55a-9d04-43be-b7a3-3d8d74ede198"
      },
      "execution_count": null,
      "outputs": [
        {
          "output_type": "execute_result",
          "data": {
            "text/plain": [
              "{'ids': [['4']],\n",
              " 'embeddings': None,\n",
              " 'documents': [['법제처                                                            2                                                       국가법령정보센터\\n대한민국헌법\\n \\n       제2장 국민의 권리와 의무\\n \\n제10조 모든 국민은 인간으로서의 존엄과 가치를 가지며, 행복을 추구할 권리를 가진다. 국가는 개인이 가지는 불가침\\n의 기본적 인권을 확인하고 이를 보장할 의무를 진다.\\n \\n제11조 ①모든 국민은 법 앞에 평등하다. 누구든지 성별ㆍ종교 또는 사회적 신분에 의하여 정치적ㆍ경제적ㆍ사회적ㆍ\\n문화적 생활의 모든 영역에 있어서 차별을 받지 아니한다.\\n②사회적 특수계급의 제도는 인정되지 아니하며, 어떠한 형태로도 이를 창설할 수 없다.\\n③훈장등의 영전은 이를 받은 자에게만 효력이 있고, 어떠한 특권도 이에 따르지 아니한다.']],\n",
              " 'uris': None,\n",
              " 'data': None,\n",
              " 'metadatas': [[{'page': 1,\n",
              "    'page_label': '2',\n",
              "    'source': '/content/drive/MyDrive/Colab Notebooks/대한민국헌법(헌법)(제00010호)(19880225).pdf'}]],\n",
              " 'distances': [[0.27309454930277915]],\n",
              " 'included': [<IncludeEnum.distances: 'distances'>,\n",
              "  <IncludeEnum.documents: 'documents'>,\n",
              "  <IncludeEnum.metadatas: 'metadatas'>]}"
            ]
          },
          "metadata": {},
          "execution_count": 60
        }
      ]
    },
    {
      "cell_type": "code",
      "source": [
        "!pip install -U langchain-community"
      ],
      "metadata": {
        "id": "5MoPM0OWc6M7"
      },
      "execution_count": null,
      "outputs": []
    },
    {
      "cell_type": "code",
      "source": [],
      "metadata": {
        "id": "UWZsmo4vd50J"
      },
      "execution_count": null,
      "outputs": []
    },
    {
      "cell_type": "code",
      "source": [
        "from langchain.document_loaders import PyPDFLoader\n",
        "from langchain.text_splitter import RecursiveCharacterTextSplitter\n",
        "from langchain_google_genai import GoogleGenerativeAIEmbeddings\n",
        "from langchain_chroma import Chroma\n",
        "import os\n",
        "import getpass\n",
        "\n",
        "Chroma().delete_collection()\n",
        "\n",
        "if \"GOOGLE_API_KEY\" not in os.environ:\n",
        "    os.environ[\"GOOGLE_API_KEY\"] = getpass.getpass(\"Google AI API 키를 입력하세요: \")\n",
        "google_api_key = os.environ.get(\"GOOGLE_API_KEY\")\n",
        "\n",
        "loader = PyPDFLoader(r\"/content/drive/MyDrive/Colab Notebooks/대한민국헌법(헌법)(제00010호)(19880225).pdf\")\n",
        "pages = loader.load_and_split()\n",
        "\n",
        "text_splitter = RecursiveCharacterTextSplitter(\n",
        "    chunk_size=500,\n",
        "    chunk_overlap=0,\n",
        "    length_function=len,\n",
        ")\n",
        "docs=text_splitter.split_documents(pages)\n",
        "\n",
        "google_embeding = GoogleGenerativeAIEmbeddings(\n",
        "    model=\"models/embedding-001\",\n",
        "    google_api_key=google_api_key\n",
        "    )\n",
        "db = Chroma.from_documents(docs, google_embeding)\n",
        "\n",
        "retreiver = db.as_retriever()\n",
        "retreiver.invoke(\"국회의원의 의무\")\n"
      ],
      "metadata": {
        "id": "h0NlwxxfaT0M"
      },
      "execution_count": null,
      "outputs": []
    },
    {
      "cell_type": "code",
      "source": [
        "result_source=db.similarity_search_with_score(\"국회의원의 의무\")\n",
        "result_r_source=db.similarity_search_with_relevance_scores(\"국회의원의 의무\")\n",
        "print(\"[유사청크 1순위]\")\n",
        "print(result_source[0][0].page_content)\n",
        "print(\"\\n\\n[점수]\")\n",
        "print(result_source[0][1])\n",
        "print(result_r_source[0][1])"
      ],
      "metadata": {
        "id": "Kukdseh8aUBO"
      },
      "execution_count": null,
      "outputs": []
    },
    {
      "cell_type": "code",
      "source": [
        "retreiver=db.as_retriever(search_kwargs={\"k\":1})\n",
        "retreiver.get_relevant_documents(\"국회의원의 의무\")"
      ],
      "metadata": {
        "id": "SbQpMzxCaUPf",
        "outputId": "849f134c-ca91-43e2-e04a-4fde352686e2",
        "colab": {
          "base_uri": "https://localhost:8080/"
        }
      },
      "execution_count": null,
      "outputs": [
        {
          "output_type": "stream",
          "name": "stderr",
          "text": [
            "<ipython-input-20-2cd742c3be40>:2: LangChainDeprecationWarning: The method `BaseRetriever.get_relevant_documents` was deprecated in langchain-core 0.1.46 and will be removed in 1.0. Use :meth:`~invoke` instead.\n",
            "  retreiver.get_relevant_documents(\"국회의원의 의무\")\n"
          ]
        },
        {
          "output_type": "execute_result",
          "data": {
            "text/plain": [
              "[Document(id='5a61cf48-6e20-4567-a83c-2d884dde3c7b', metadata={'page': 6, 'page_label': '7', 'source': '/content/drive/MyDrive/Colab Notebooks/대한민국헌법(헌법)(제00010호)(19880225).pdf'}, page_content='제70조 대통령의 임기는 5년으로 하며, 중임할 수 없다.\\n \\n제71조 대통령이 궐위되거나 사고로 인하여 직무를 수행할 수 없을 때에는 국무총리, 법률이 정한 국무위원의 순서로\\n그 권한을 대행한다.\\n \\n제72조 대통령은 필요하다고 인정할 때에는 외교ㆍ국방ㆍ통일 기타 국가안위에 관한 중요정책을 국민투표에 붙일 수\\n있다.\\n \\n제73조 대통령은 조약을 체결ㆍ비준하고, 외교사절을 신임ㆍ접수 또는 파견하며, 선전포고와 강화를 한다.\\n \\n제74조 ①대통령은 헌법과 법률이 정하는 바에 의하여 국군을 통수한다.\\n②국군의 조직과 편성은 법률로 정한다.\\n \\n제75조 대통령은 법률에서 구체적으로 범위를 정하여 위임받은 사항과 법률을 집행하기 위하여 필요한 사항에 관하여\\n대통령령을 발할 수 있다.\\n \\n제76조 ①대통령은 내우ㆍ외환ㆍ천재ㆍ지변 또는 중대한 재정ㆍ경제상의 위기에 있어서 국가의 안전보장 또는 공공의')]"
            ]
          },
          "metadata": {},
          "execution_count": 20
        }
      ]
    },
    {
      "cell_type": "code",
      "source": [
        "!pip install --upgrade transformers\n",
        "!pip install --upgrade sentence-transformers timm"
      ],
      "metadata": {
        "id": "SdL5Uqk3ItT7"
      },
      "execution_count": null,
      "outputs": []
    },
    {
      "cell_type": "code",
      "source": [
        "!pip install langchain-openai"
      ],
      "metadata": {
        "id": "K6MNUCU-KCsX"
      },
      "execution_count": null,
      "outputs": []
    },
    {
      "cell_type": "code",
      "source": [
        "from langchain.document_loaders import PyPDFLoader\n",
        "from langchain.text_splitter import RecursiveCharacterTextSplitter\n",
        "# from langchain_google_genai import GoogleGenerativeAIEmbeddings\n",
        "from langchain_openai import OpenAIEmbeddings\n",
        "from langchain_chroma import Chroma\n",
        "import os\n",
        "import getpass\n",
        "\n",
        "\n",
        "\n",
        "\n",
        "\n",
        "Chroma().delete_collection()\n",
        "\n",
        "# if \"GOOGLE_API_KEY\" not in os.environ:\n",
        "#     os.environ[\"GOOGLE_API_KEY\"] = getpass.getpass(\"Google AI API 키를 입력하세요: \")\n",
        "# google_api_key = os.environ.get(\"GOOGLE_API_KEY\")\n",
        "os.environ[\"OPENAI_API_KEY\"] = getpass.getpass(\"OpenAI API 키를 입력하세요: \")\n",
        "openai_api_key = os.environ.get(\"OPENAI_API_KEY\")\n",
        "\n",
        "loader = PyPDFLoader(r\"/content/drive/MyDrive/Colab Notebooks/대한민국헌법(헌법)(제00010호)(19880225).pdf\")\n",
        "pages = loader.load_and_split()\n",
        "\n",
        "text_splitter = RecursiveCharacterTextSplitter(\n",
        "    chunk_size=500,\n",
        "    chunk_overlap=0,\n",
        "    length_function=len,\n",
        ")\n",
        "docs=text_splitter.split_documents(pages)\n",
        "\n",
        "# google_embeding = GoogleGenerativeAIEmbeddings(\n",
        "#     model=\"models/embedding-001\",\n",
        "#     google_api_key=google_api_key\n",
        "#     )\n",
        "\n",
        "\n",
        "db = Chroma.from_documents(docs, OpenAIEmbeddings(model='text-embedding-3-small'))\n",
        "\n",
        "retreiver = db.as_retriever()\n",
        "retreiver.invoke(\"국회의원의 의무\")"
      ],
      "metadata": {
        "id": "8brC19W04GVl"
      },
      "execution_count": null,
      "outputs": []
    },
    {
      "cell_type": "markdown",
      "source": [
        "### MMR(Maximal Marginal Relevance) 검색방식"
      ],
      "metadata": {
        "id": "TVr09aBh-UFs"
      }
    },
    {
      "cell_type": "code",
      "source": [
        "from langchain.document_loaders import PyPDFLoader\n",
        "from langchain.text_splitter import RecursiveCharacterTextSplitter\n",
        "from langchain_google_genai import GoogleGenerativeAIEmbeddings\n",
        "from langchain_chroma import Chroma\n",
        "\n",
        "loader=PyPDFLoader(r\"/content/drive/MyDrive/Colab Notebooks/대한민국헌법(헌법)(제00010호)(19880225).pdf\")\n",
        "pages=loader.load_and_split()\n",
        "\n",
        "text_splitter=RecursiveCharacterTextSplitter(\n",
        "    chunk_size=500,\n",
        "    chunk_overlap=0,\n",
        ")\n",
        "docs=text_splitter.split_documents(pages)\n",
        "\n",
        "db = Chroma.from_documents(docs, GoogleGenerativeAIEmbeddings(model=\"models/embedding-001\"))\n",
        "\n",
        "# retreiver=db.as_retriever(search_type=\"mmr\")\n",
        "# retreiver.invoke(\"국회의원의 의무\")"
      ],
      "metadata": {
        "id": "5yTqvdvI4Gck"
      },
      "execution_count": null,
      "outputs": []
    },
    {
      "cell_type": "markdown",
      "source": [
        "#### MultivectorRetriever"
      ],
      "metadata": {
        "id": "fBK458cxoZeq"
      }
    },
    {
      "cell_type": "code",
      "source": [
        "from langchain.retrievers.multi_vector import MultiVectorRetriever\n",
        "from langchain.storage import InMemoryStore\n",
        "from langchain_chroma import Chroma\n",
        "from langchain_text_splitters import RecursiveCharacterTextSplitter\n",
        "from langchain.document_loaders import PyPDFLoader\n",
        "\n",
        "loader=PyPDFLoader(r\"/content/drive/MyDrive/Colab Notebooks/대한민국헌법(헌법)(제00010호)(19880225).pdf\")\n",
        "docs=loader.load_and_split()\n",
        "\n",
        "text_splitter=RecursiveCharacterTextSplitter(\n",
        "    chunk_size=2000,\n",
        "    chunk_overlap=0,\n",
        ")\n",
        "docs=text_splitter.split_documents(docs)"
      ],
      "metadata": {
        "id": "q7WRzdHb4Gew"
      },
      "execution_count": 5,
      "outputs": []
    },
    {
      "cell_type": "code",
      "source": [],
      "metadata": {
        "id": "145uucHW4Gjl"
      },
      "execution_count": null,
      "outputs": []
    },
    {
      "cell_type": "code",
      "source": [],
      "metadata": {
        "id": "xgRwkqoh4Gm3"
      },
      "execution_count": null,
      "outputs": []
    },
    {
      "cell_type": "code",
      "source": [],
      "metadata": {
        "id": "lPsXHKEF4Gpm"
      },
      "execution_count": null,
      "outputs": []
    },
    {
      "cell_type": "code",
      "source": [],
      "metadata": {
        "id": "e89E0eyi4Gv4"
      },
      "execution_count": null,
      "outputs": []
    },
    {
      "cell_type": "code",
      "source": [],
      "metadata": {
        "id": "jzEKxdTcCeR6"
      },
      "execution_count": null,
      "outputs": []
    },
    {
      "cell_type": "code",
      "source": [],
      "metadata": {
        "id": "rMX6b5uCyNg5"
      },
      "execution_count": null,
      "outputs": []
    }
  ]
}