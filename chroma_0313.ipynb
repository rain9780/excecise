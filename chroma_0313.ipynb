{
  "nbformat": 4,
  "nbformat_minor": 0,
  "metadata": {
    "colab": {
      "provenance": [],
      "include_colab_link": true
    },
    "kernelspec": {
      "name": "python3",
      "display_name": "Python 3"
    },
    "language_info": {
      "name": "python"
    }
  },
  "cells": [
    {
      "cell_type": "markdown",
      "metadata": {
        "id": "view-in-github",
        "colab_type": "text"
      },
      "source": [
        "<a href=\"https://colab.research.google.com/github/rain9780/excecise/blob/main/chroma_0313.ipynb\" target=\"_parent\"><img src=\"https://colab.research.google.com/assets/colab-badge.svg\" alt=\"Open In Colab\"/></a>"
      ]
    },
    {
      "cell_type": "code",
      "source": [
        "! pip install langchain-community\n",
        "! pip install -U pypdf\n",
        "! pip install -U langchain-google-genai\n",
        "! pip install -U chromadb\n",
        "! pip install -U langchain-chroma\n",
        "! pip install -U langchain-core"
      ],
      "metadata": {
        "id": "mLUN_xeK1OLC"
      },
      "execution_count": null,
      "outputs": []
    },
    {
      "cell_type": "code",
      "source": [
        "! pip install langchain-core"
      ],
      "metadata": {
        "id": "wi-biRo5mW8L"
      },
      "execution_count": null,
      "outputs": []
    },
    {
      "cell_type": "code",
      "source": [
        "from google.colab import drive\n",
        "drive.mount('/content/drive')"
      ],
      "metadata": {
        "colab": {
          "base_uri": "https://localhost:8080/"
        },
        "id": "KT19sJMpe5Ij",
        "outputId": "17779b5c-54ad-4db0-dde5-606c7417336b"
      },
      "execution_count": null,
      "outputs": [
        {
          "output_type": "stream",
          "name": "stdout",
          "text": [
            "Mounted at /content/drive\n"
          ]
        }
      ]
    },
    {
      "cell_type": "code",
      "source": [
        "import getpass\n",
        "import os\n",
        "from langchain.document_loaders import PyPDFLoader\n",
        "from langchain.text_splitter import RecursiveCharacterTextSplitter\n",
        "from langchain_google_genai import GoogleGenerativeAIEmbeddings\n",
        "from langchain.vectorstores import Chroma\n",
        "import google.generativeai as genai\n",
        "\n",
        "if \"GOOGLE_API_KEY\" not in os.environ:\n",
        "    os.environ[\"GOOGLE_API_KEY\"] = getpass.getpass(\"Google AI API 키를 입력하세요: \")\n",
        "\n",
        "google_api_key = os.environ.get(\"GOOGLE_API_KEY\")\n",
        "\n",
        "google_embeding = GoogleGenerativeAIEmbeddings(\n",
        "    model=\"models/embedding-001\",\n",
        "    google_api_key=google_api_key\n",
        "    )\n",
        "\n",
        "loader = PyPDFLoader(r\"/content/drive/MyDrive/Colab Notebooks/대한민국헌법(헌법)(제00010호)(19880225).pdf\")\n",
        "pages = loader.load_and_split()\n",
        "\n",
        "text_splitter = RecursiveCharacterTextSplitter(\n",
        "    chunk_size=500,\n",
        "    chunk_overlap=0,\n",
        "    length_function=len,\n",
        ")\n",
        "docs=text_splitter.split_documents(pages)\n",
        "\n",
        "db = Chroma.from_documents(docs, google_embeding)\n",
        "docs = text_splitter.split_documents(pages)"
      ],
      "metadata": {
        "id": "ieu7TGtCPjWt"
      },
      "execution_count": null,
      "outputs": []
    },
    {
      "cell_type": "code",
      "source": [
        "docs[-1]"
      ],
      "metadata": {
        "colab": {
          "base_uri": "https://localhost:8080/"
        },
        "id": "KZgqh_fkeT5T",
        "outputId": "064d702b-1ee5-4221-fd77-87b76fc38909"
      },
      "execution_count": null,
      "outputs": [
        {
          "output_type": "execute_result",
          "data": {
            "text/plain": [
              "Document(metadata={'source': '/content/drive/MyDrive/Colab Notebooks/대한민국헌법(헌법)(제00010호)(19880225).pdf', 'page': 13, 'page_label': '14'}, page_content='법제처                                                            14                                                       국가법령정보센터\\n대한민국헌법\\n제5조 이 헌법시행 당시의 법령과 조약은 이 헌법에 위배되지 아니하는 한 그 효력을 지속한다.\\n제6조 이 헌법시행 당시에 이 헌법에 의하여 새로 설치될 기관의 권한에 속하는 직무를 행하고 있는 기관은 이 헌법에\\n의하여 새로운 기관이 설치될 때까지 존속하며 그 직무를 행한다.')"
            ]
          },
          "metadata": {},
          "execution_count": 15
        }
      ]
    },
    {
      "cell_type": "code",
      "source": [
        "query=\"제70조의 대통령의 임기는?\"\n",
        "docs = db.similarity_search(query)\n",
        "print(docs[0])\n",
        "db.similarity_search_with_score(query)"
      ],
      "metadata": {
        "id": "vxrUnb4rPjaO"
      },
      "execution_count": null,
      "outputs": []
    },
    {
      "cell_type": "code",
      "source": [
        "#save to disk\n",
        "db2 = Chroma.from_documents(docs, google_embeding, persist_directory=\"./Chroma_db\")\n",
        "\n",
        "#load from disk\n",
        "db3=Chroma(persist_directory=\"./Chroma_db\", embedding_function=google_embeding)\n",
        "result=db3.similarity_search(query)\n",
        "print(result[0].page_content)"
      ],
      "metadata": {
        "colab": {
          "base_uri": "https://localhost:8080/"
        },
        "id": "4_emIUt2PjeB",
        "outputId": "e13c2913-c491-452a-a1fd-cbcc8b718a54"
      },
      "execution_count": null,
      "outputs": [
        {
          "output_type": "stream",
          "name": "stdout",
          "text": [
            "제70조 대통령의 임기는 5년으로 하며, 중임할 수 없다.\n",
            " \n",
            "제71조 대통령이 궐위되거나 사고로 인하여 직무를 수행할 수 없을 때에는 국무총리, 법률이 정한 국무위원의 순서로\n",
            "그 권한을 대행한다.\n",
            " \n",
            "제72조 대통령은 필요하다고 인정할 때에는 외교ㆍ국방ㆍ통일 기타 국가안위에 관한 중요정책을 국민투표에 붙일 수\n",
            "있다.\n",
            " \n",
            "제73조 대통령은 조약을 체결ㆍ비준하고, 외교사절을 신임ㆍ접수 또는 파견하며, 선전포고와 강화를 한다.\n",
            " \n",
            "제74조 ①대통령은 헌법과 법률이 정하는 바에 의하여 국군을 통수한다.\n",
            "②국군의 조직과 편성은 법률로 정한다.\n",
            " \n",
            "제75조 대통령은 법률에서 구체적으로 범위를 정하여 위임받은 사항과 법률을 집행하기 위하여 필요한 사항에 관하여\n",
            "대통령령을 발할 수 있다.\n",
            " \n",
            "제76조 ①대통령은 내우ㆍ외환ㆍ천재ㆍ지변 또는 중대한 재정ㆍ경제상의 위기에 있어서 국가의 안전보장 또는 공공의\n"
          ]
        },
        {
          "output_type": "stream",
          "name": "stderr",
          "text": [
            "<ipython-input-27-bb29cd640ba7>:5: LangChainDeprecationWarning: The class `Chroma` was deprecated in LangChain 0.2.9 and will be removed in 1.0. An updated version of the class exists in the :class:`~langchain-chroma package and should be used instead. To use it run `pip install -U :class:`~langchain-chroma` and import as `from :class:`~langchain_chroma import Chroma``.\n",
            "  db3=Chroma(persist_directory=\"./Chroma_db\", embedding_function=google_embeding)\n"
          ]
        }
      ]
    },
    {
      "cell_type": "code",
      "source": [
        "import chromadb\n",
        "#collection을 저장할 경로 지정\n",
        "client = chromadb.PersistentClient(path=\"./collection_example\")\n",
        "client.heartbeat()"
      ],
      "metadata": {
        "colab": {
          "base_uri": "https://localhost:8080/"
        },
        "id": "cLNAzux5Pjj2",
        "outputId": "4a750797-63a9-4b85-f056-9505329e5f84"
      },
      "execution_count": null,
      "outputs": [
        {
          "output_type": "execute_result",
          "data": {
            "text/plain": [
              "1737594396011648708"
            ]
          },
          "metadata": {},
          "execution_count": 28
        }
      ]
    },
    {
      "cell_type": "code",
      "source": [
        "from chromadb.utils import embedding_functions\n",
        "import chromadb.utils.embedding_functions as embedding_functions\n",
        "\n",
        "embedding_function = embedding_functions.GoogleGenerativeAiEmbeddingFunction(google_api_key)\n",
        "\n",
        "collection=client.get_or_create_collection(name=\"korean_law\", embedding_function=embedding_function)"
      ],
      "metadata": {
        "id": "OuoGzIAEPjoH"
      },
      "execution_count": null,
      "outputs": []
    },
    {
      "cell_type": "code",
      "source": [
        "collection"
      ],
      "metadata": {
        "colab": {
          "base_uri": "https://localhost:8080/"
        },
        "id": "C-X5J-xNPjrH",
        "outputId": "08596df8-70c9-48d6-de5a-bb9bacc2167e"
      },
      "execution_count": null,
      "outputs": [
        {
          "output_type": "execute_result",
          "data": {
            "text/plain": [
              "Collection(name=korean_law)"
            ]
          },
          "metadata": {},
          "execution_count": 35
        }
      ]
    },
    {
      "cell_type": "code",
      "source": [
        "from langchain_text_splitters import RecursiveCharacterTextSplitter\n",
        "from langchain.document_loaders import PyPDFLoader\n",
        "from langchain.vectorstores import Chroma\n",
        "\n",
        "loader=PyPDFLoader(r\"/content/drive/MyDrive/Colab Notebooks/대한민국헌법(헌법)(제00010호)(19880225).pdf\")\n",
        "pages=loader.load_and_split()\n",
        "\n",
        "text_splitter=RecursiveCharacterTextSplitter(\n",
        "    chunk_size=500,\n",
        "    chunk_overlap=0,\n",
        ")\n",
        "docs=text_splitter.split_documents(pages)\n",
        "\n",
        "collection.add(\n",
        "    ids=[str(i) for i in range(len(docs))],\n",
        "    documents=[doc.page_content for doc in docs],\n",
        "    metadatas=[doc.metadata for doc in docs]\n",
        ")"
      ],
      "metadata": {
        "id": "k3YRqaXN1cud"
      },
      "execution_count": null,
      "outputs": []
    },
    {
      "cell_type": "code",
      "source": [
        "Collection=client.get_collection(name=\"korean_law\")"
      ],
      "metadata": {
        "id": "wu3FQQMu3Fty"
      },
      "execution_count": null,
      "outputs": []
    },
    {
      "cell_type": "code",
      "source": [
        "collection.query(\n",
        "    query_texts=[\"직업 선택의 자유\"],\n",
        "    n_results=3,\n",
        "    where={\"page\":1},\n",
        ")"
      ],
      "metadata": {
        "id": "erv1uFs13hDk"
      },
      "execution_count": null,
      "outputs": []
    },
    {
      "cell_type": "code",
      "source": [
        "collection.query(\n",
        "    query_texts=[\"직업 선택의 자유\"],\n",
        "    n_results=3,\n",
        "    where={\"page\":{\"$gte\":5}},\n",
        ")"
      ],
      "metadata": {
        "id": "2QI8Iace4iIx"
      },
      "execution_count": null,
      "outputs": []
    },
    {
      "cell_type": "code",
      "source": [
        "collection.query(\n",
        "    query_texts=[\"직업 선택의 자유\"],\n",
        "    n_results=3,\n",
        "    where={\"page\":1},\n",
        "    where_document={\"$contains\":\"10\"},\n",
        ")"
      ],
      "metadata": {
        "id": "zTh7_qdy48-7"
      },
      "execution_count": null,
      "outputs": []
    },
    {
      "cell_type": "code",
      "source": [
        "!pip install -U langchain-community"
      ],
      "metadata": {
        "id": "5MoPM0OWc6M7"
      },
      "execution_count": null,
      "outputs": []
    },
    {
      "cell_type": "code",
      "source": [],
      "metadata": {
        "id": "UWZsmo4vd50J"
      },
      "execution_count": null,
      "outputs": []
    },
    {
      "cell_type": "code",
      "source": [
        "from langchain.document_loaders import PyPDFLoader\n",
        "from langchain.text_splitter import RecursiveCharacterTextSplitter\n",
        "from langchain_google_genai import GoogleGenerativeAIEmbeddings\n",
        "from langchain_chroma import Chroma\n",
        "import os\n",
        "import getpass\n",
        "\n",
        "Chroma().delete_collection()\n",
        "\n",
        "if \"GOOGLE_API_KEY\" not in os.environ:\n",
        "    os.environ[\"GOOGLE_API_KEY\"] = getpass.getpass(\"Google AI API 키를 입력하세요: \")\n",
        "google_api_key = os.environ.get(\"GOOGLE_API_KEY\")\n",
        "\n",
        "loader = PyPDFLoader(r\"/content/drive/MyDrive/Colab Notebooks/대한민국헌법(헌법)(제00010호)(19880225).pdf\")\n",
        "pages = loader.load_and_split()\n",
        "\n",
        "text_splitter = RecursiveCharacterTextSplitter(\n",
        "    chunk_size=500,\n",
        "    chunk_overlap=0,\n",
        "    length_function=len,\n",
        ")\n",
        "docs=text_splitter.split_documents(pages)\n",
        "\n",
        "google_embeding = GoogleGenerativeAIEmbeddings(\n",
        "    model=\"models/embedding-001\",\n",
        "    google_api_key=google_api_key\n",
        "    )\n",
        "db = Chroma.from_documents(docs, google_embeding)\n",
        "\n",
        "retreiver = db.as_retriever()\n",
        "retreiver.invoke(\"국회의원의 의무\")\n"
      ],
      "metadata": {
        "id": "h0NlwxxfaT0M"
      },
      "execution_count": null,
      "outputs": []
    },
    {
      "cell_type": "code",
      "source": [
        "result_source=db.similarity_search_with_score(\"국회의원의 의무\")\n",
        "result_r_source=db.similarity_search_with_relevance_scores(\"국회의원의 의무\")\n",
        "print(\"[유사청크 1순위]\")\n",
        "print(result_source[0][0].page_content)\n",
        "print(\"\\n\\n[점수]\")\n",
        "print(result_source[0][1])\n",
        "print(result_r_source[0][1])"
      ],
      "metadata": {
        "id": "Kukdseh8aUBO"
      },
      "execution_count": null,
      "outputs": []
    },
    {
      "cell_type": "code",
      "source": [
        "retreiver=db.as_retriever(search_kwargs={\"k\":1})\n",
        "retreiver.get_relevant_documents(\"국회의원의 의무\")"
      ],
      "metadata": {
        "id": "SbQpMzxCaUPf"
      },
      "execution_count": null,
      "outputs": []
    },
    {
      "cell_type": "code",
      "source": [
        "!pip install --upgrade transformers\n",
        "!pip install --upgrade sentence-transformers timm"
      ],
      "metadata": {
        "id": "SdL5Uqk3ItT7"
      },
      "execution_count": null,
      "outputs": []
    },
    {
      "cell_type": "code",
      "source": [
        "!pip install langchain-openai"
      ],
      "metadata": {
        "id": "K6MNUCU-KCsX"
      },
      "execution_count": null,
      "outputs": []
    },
    {
      "cell_type": "code",
      "source": [
        "from langchain.document_loaders import PyPDFLoader\n",
        "from langchain.text_splitter import RecursiveCharacterTextSplitter\n",
        "# from langchain_google_genai import GoogleGenerativeAIEmbeddings\n",
        "from langchain_openai import OpenAIEmbeddings\n",
        "from langchain_chroma import Chroma\n",
        "import os\n",
        "import getpass\n",
        "\n",
        "\n",
        "\n",
        "\n",
        "\n",
        "Chroma().delete_collection()\n",
        "\n",
        "# if \"GOOGLE_API_KEY\" not in os.environ:\n",
        "#     os.environ[\"GOOGLE_API_KEY\"] = getpass.getpass(\"Google AI API 키를 입력하세요: \")\n",
        "# google_api_key = os.environ.get(\"GOOGLE_API_KEY\")\n",
        "os.environ[\"OPENAI_API_KEY\"] = getpass.getpass(\"OpenAI API 키를 입력하세요: \")\n",
        "openai_api_key = os.environ.get(\"OPENAI_API_KEY\")\n",
        "\n",
        "loader = PyPDFLoader(r\"/content/drive/MyDrive/Colab Notebooks/대한민국헌법(헌법)(제00010호)(19880225).pdf\")\n",
        "pages = loader.load_and_split()\n",
        "\n",
        "text_splitter = RecursiveCharacterTextSplitter(\n",
        "    chunk_size=500,\n",
        "    chunk_overlap=0,\n",
        "    length_function=len,\n",
        ")\n",
        "docs=text_splitter.split_documents(pages)\n",
        "\n",
        "# google_embeding = GoogleGenerativeAIEmbeddings(\n",
        "#     model=\"models/embedding-001\",\n",
        "#     google_api_key=google_api_key\n",
        "#     )\n",
        "\n",
        "\n",
        "db = Chroma.from_documents(docs, OpenAIEmbeddings(model='text-embedding-3-small'))\n",
        "\n",
        "retreiver = db.as_retriever()\n",
        "retreiver.invoke(\"국회의원의 의무\")"
      ],
      "metadata": {
        "id": "8brC19W04GVl"
      },
      "execution_count": null,
      "outputs": []
    },
    {
      "cell_type": "markdown",
      "source": [
        "### MMR(Maximal Marginal Relevance) 검색방식"
      ],
      "metadata": {
        "id": "TVr09aBh-UFs"
      }
    },
    {
      "cell_type": "code",
      "source": [
        "from langchain.document_loaders import PyPDFLoader\n",
        "from langchain.text_splitter import RecursiveCharacterTextSplitter\n",
        "from langchain_google_genai import GoogleGenerativeAIEmbeddings\n",
        "from langchain_chroma import Chroma\n",
        "\n",
        "loader=PyPDFLoader(r\"/content/drive/MyDrive/Colab Notebooks/대한민국헌법(헌법)(제00010호)(19880225).pdf\")\n",
        "pages=loader.load_and_split()\n",
        "\n",
        "text_splitter=RecursiveCharacterTextSplitter(\n",
        "    chunk_size=500,\n",
        "    chunk_overlap=0,\n",
        ")\n",
        "docs=text_splitter.split_documents(pages)\n",
        "\n",
        "db = Chroma.from_documents(docs, GoogleGenerativeAIEmbeddings(model=\"models/embedding-001\"))\n",
        "\n",
        "# retreiver=db.as_retriever(search_type=\"mmr\")\n",
        "# retreiver.invoke(\"국회의원의 의무\")"
      ],
      "metadata": {
        "id": "5yTqvdvI4Gck"
      },
      "execution_count": null,
      "outputs": []
    },
    {
      "cell_type": "markdown",
      "source": [
        "#### MultivectorRetriever"
      ],
      "metadata": {
        "id": "fBK458cxoZeq"
      }
    },
    {
      "cell_type": "code",
      "source": [
        "from langchain.retrievers.multi_vector import MultiVectorRetriever\n",
        "from langchain.storage import InMemoryStore\n",
        "from langchain_chroma import Chroma\n",
        "from langchain_text_splitters import RecursiveCharacterTextSplitter\n",
        "from langchain.document_loaders import PyPDFLoader\n",
        "\n",
        "loader=PyPDFLoader(r\"/content/drive/MyDrive/Colab Notebooks/대한민국헌법(헌법)(제00010호)(19880225).pdf\")\n",
        "docs=loader.load_and_split()\n",
        "\n",
        "text_splitter=RecursiveCharacterTextSplitter(\n",
        "    chunk_size=2000,\n",
        "    chunk_overlap=0,\n",
        ")\n",
        "docs=text_splitter.split_documents(docs)"
      ],
      "metadata": {
        "id": "q7WRzdHb4Gew",
        "colab": {
          "base_uri": "https://localhost:8080/"
        },
        "outputId": "2a82fe21-e7cc-477a-aa79-154919b3b026"
      },
      "execution_count": null,
      "outputs": [
        {
          "output_type": "stream",
          "name": "stdout",
          "text": [
            "[Document(metadata={'producer': 'iText 2.1.7 by 1T3XT', 'creator': 'PyPDF', 'creationdate': '2024-04-01T21:26:24+09:00', 'moddate': '2024-04-01T21:26:24+09:00', 'source': '/content/drive/MyDrive/Colab Notebooks/대한민국헌법(헌법)(제00010호)(19880225).pdf', 'total_pages': 14, 'page': 0, 'page_label': '1'}, page_content='법제처                                                            1                                                       국가법령정보센터\\n대한민국헌법\\n \\n대한민국헌법\\n[시행 1988. 2. 25.] [헌법 제10호, 1987. 10. 29., 전부개정]\\n       전문\\n \\n유구한 역사와 전통에 빛나는 우리 대한국민은 3ㆍ1운동으로 건립된 대한민국임시정부의 법통과 불의에 항거한\\n4ㆍ19민주이념을 계승하고, 조국의 민주개혁과 평화적 통일의 사명에 입각하여 정의ㆍ인도와 동포애로써 민족의 단\\n결을 공고히 하고, 모든 사회적 폐습과 불의를 타파하며, 자율과 조화를 바탕으로 자유민주적 기본질서를 더욱 확고\\n히 하여 정치ㆍ경제ㆍ사회ㆍ문화의 모든 영역에 있어서 각인의 기회를 균등히 하고, 능력을 최고도로 발휘하게 하며\\n, 자유와 권리에 따르는 책임과 의무를 완수하게 하여, 안으로는 국민생활의 균등한 향상을 기하고 밖으로는 항구적\\n인 세계평화와 인류공영에 이바지함으로써 우리들과 우리들의 자손의 안전과 자유와 행복을 영원히 확보할 것을 다\\n짐하면서 1948년 7월 12일에 제정되고 8차에 걸쳐 개정된 헌법을 이제 국회의 의결을 거쳐 국민투표에 의하여 개정\\n한다.\\n \\n1987년 10월 29일\\n \\n       제1장 총강\\n \\n제1조 ①대한민국은 민주공화국이다.\\n②대한민국의 주권은 국민에게 있고, 모든 권력은 국민으로부터 나온다.\\n \\n제2조 ①대한민국의 국민이 되는 요건은 법률로 정한다.\\n②국가는 법률이 정하는 바에 의하여 재외국민을 보호할 의무를 진다.\\n \\n제3조 대한민국의 영토는 한반도와 그 부속도서로 한다.\\n \\n제4조 대한민국은 통일을 지향하며, 자유민주적 기본질서에 입각한 평화적 통일정책을 수립하고 이를 추진한다.\\n \\n제5조 ①대한민국은 국제평화의 유지에 노력하고 침략적 전쟁을 부인한다.\\n②국군은 국가의 안전보장과 국토방위의 신성한 의무를 수행함을 사명으로 하며, 그 정치적 중립성은 준수된다.\\n \\n제6조 ①헌법에 의하여 체결ㆍ공포된 조약과 일반적으로 승인된 국제법규는 국내법과 같은 효력을 가진다.\\n②외국인은 국제법과 조약이 정하는 바에 의하여 그 지위가 보장된다.\\n \\n제7조 ①공무원은 국민전체에 대한 봉사자이며, 국민에 대하여 책임을 진다.\\n②공무원의 신분과 정치적 중립성은 법률이 정하는 바에 의하여 보장된다.\\n \\n제8조 ①정당의 설립은 자유이며, 복수정당제는 보장된다.\\n②정당은 그 목적ㆍ조직과 활동이 민주적이어야 하며, 국민의 정치적 의사형성에 참여하는데 필요한 조직을 가져야\\n한다.\\n③정당은 법률이 정하는 바에 의하여 국가의 보호를 받으며, 국가는 법률이 정하는 바에 의하여 정당운영에 필요한\\n자금을 보조할 수 있다.\\n④정당의 목적이나 활동이 민주적 기본질서에 위배될 때에는 정부는 헌법재판소에 그 해산을 제소할 수 있고, 정당\\n은 헌법재판소의 심판에 의하여 해산된다.\\n \\n제9조 국가는 전통문화의 계승ㆍ발전과 민족문화의 창달에 노력하여야 한다.'), Document(metadata={'producer': 'iText 2.1.7 by 1T3XT', 'creator': 'PyPDF', 'creationdate': '2024-04-01T21:26:24+09:00', 'moddate': '2024-04-01T21:26:24+09:00', 'source': '/content/drive/MyDrive/Colab Notebooks/대한민국헌법(헌법)(제00010호)(19880225).pdf', 'total_pages': 14, 'page': 1, 'page_label': '2'}, page_content='법제처                                                            2                                                       국가법령정보센터\\n대한민국헌법\\n \\n       제2장 국민의 권리와 의무\\n \\n제10조 모든 국민은 인간으로서의 존엄과 가치를 가지며, 행복을 추구할 권리를 가진다. 국가는 개인이 가지는 불가침\\n의 기본적 인권을 확인하고 이를 보장할 의무를 진다.\\n \\n제11조 ①모든 국민은 법 앞에 평등하다. 누구든지 성별ㆍ종교 또는 사회적 신분에 의하여 정치적ㆍ경제적ㆍ사회적ㆍ\\n문화적 생활의 모든 영역에 있어서 차별을 받지 아니한다.\\n②사회적 특수계급의 제도는 인정되지 아니하며, 어떠한 형태로도 이를 창설할 수 없다.\\n③훈장등의 영전은 이를 받은 자에게만 효력이 있고, 어떠한 특권도 이에 따르지 아니한다.\\n \\n제12조 ①모든 국민은 신체의 자유를 가진다. 누구든지 법률에 의하지 아니하고는 체포ㆍ구속ㆍ압수ㆍ수색 또는 심문\\n을 받지 아니하며, 법률과 적법한 절차에 의하지 아니하고는 처벌ㆍ보안처분 또는 강제노역을 받지 아니한다.\\n②모든 국민은 고문을 받지 아니하며, 형사상 자기에게 불리한 진술을 강요당하지 아니한다.\\n③체포ㆍ구속ㆍ압수 또는 수색을 할 때에는 적법한 절차에 따라 검사의 신청에 의하여 법관이 발부한 영장을 제시\\n하여야 한다. 다만, 현행범인인 경우와 장기 3년 이상의 형에 해당하는 죄를 범하고 도피 또는 증거인멸의 염려가\\n있을 때에는 사후에 영장을 청구할 수 있다.\\n④누구든지 체포 또는 구속을 당한 때에는 즉시 변호인의 조력을 받을 권리를 가진다. 다만, 형사피고인이 스스로\\n변호인을 구할 수 없을 때에는 법률이 정하는 바에 의하여 국가가 변호인을 붙인다.\\n⑤누구든지 체포 또는 구속의 이유와 변호인의 조력을 받을 권리가 있음을 고지받지 아니하고는 체포 또는 구속을\\n당하지 아니한다. 체포 또는 구속을 당한 자의 가족등 법률이 정하는 자에게는 그 이유와 일시ㆍ장소가 지체없이 통\\n지되어야 한다.\\n⑥누구든지 체포 또는 구속을 당한 때에는 적부의 심사를 법원에 청구할 권리를 가진다.\\n⑦피고인의 자백이 고문ㆍ폭행ㆍ협박ㆍ구속의 부당한 장기화 또는 기망 기타의 방법에 의하여 자의로 진술된 것이\\n아니라고 인정될 때 또는 정식재판에 있어서 피고인의 자백이 그에게 불리한 유일한 증거일 때에는 이를 유죄의 증\\n거로 삼거나 이를 이유로 처벌할 수 없다.\\n \\n제13조 ①모든 국민은 행위시의 법률에 의하여 범죄를 구성하지 아니하는 행위로 소추되지 아니하며, 동일한 범죄에\\n대하여 거듭 처벌받지 아니한다.\\n②모든 국민은 소급입법에 의하여 참정권의 제한을 받거나 재산권을 박탈당하지 아니한다.\\n③모든 국민은 자기의 행위가 아닌 친족의 행위로 인하여 불이익한 처우를 받지 아니한다.\\n \\n제14조 모든 국민은 거주ㆍ이전의 자유를 가진다.\\n \\n제15조 모든 국민은 직업선택의 자유를 가진다.\\n \\n제16조 모든 국민은 주거의 자유를 침해받지 아니한다. 주거에 대한 압수나 수색을 할 때에는 검사의 신청에 의하여 법\\n관이 발부한 영장을 제시하여야 한다.\\n \\n제17조 모든 국민은 사생활의 비밀과 자유를 침해받지 아니한다.\\n \\n제18조 모든 국민은 통신의 비밀을 침해받지 아니한다.\\n \\n제19조 모든 국민은 양심의 자유를 가진다.\\n \\n제20조 ①모든 국민은 종교의 자유를 가진다.\\n②국교는 인정되지 아니하며, 종교와 정치는 분리된다.'), Document(metadata={'producer': 'iText 2.1.7 by 1T3XT', 'creator': 'PyPDF', 'creationdate': '2024-04-01T21:26:24+09:00', 'moddate': '2024-04-01T21:26:24+09:00', 'source': '/content/drive/MyDrive/Colab Notebooks/대한민국헌법(헌법)(제00010호)(19880225).pdf', 'total_pages': 14, 'page': 2, 'page_label': '3'}, page_content='법제처                                                            3                                                       국가법령정보센터\\n대한민국헌법\\n제21조 ①모든 국민은 언론ㆍ출판의 자유와 집회ㆍ결사의 자유를 가진다.\\n②언론ㆍ출판에 대한 허가나 검열과 집회ㆍ결사에 대한 허가는 인정되지 아니한다.\\n③통신ㆍ방송의 시설기준과 신문의 기능을 보장하기 위하여 필요한 사항은 법률로 정한다.\\n④언론ㆍ출판은 타인의 명예나 권리 또는 공중도덕이나 사회윤리를 침해하여서는 아니된다. 언론ㆍ출판이 타인의\\n명예나 권리를 침해한 때에는 피해자는 이에 대한 피해의 배상을 청구할 수 있다.\\n \\n제22조 ①모든 국민은 학문과 예술의 자유를 가진다.\\n②저작자ㆍ발명가ㆍ과학기술자와 예술가의 권리는 법률로써 보호한다.\\n \\n제23조 ①모든 국민의 재산권은 보장된다. 그 내용과 한계는 법률로 정한다.\\n②재산권의 행사는 공공복리에 적합하도록 하여야 한다.\\n③공공필요에 의한 재산권의 수용ㆍ사용 또는 제한 및 그에 대한 보상은 법률로써 하되, 정당한 보상을 지급하여야\\n한다.\\n \\n제24조 모든 국민은 법률이 정하는 바에 의하여 선거권을 가진다.\\n \\n제25조 모든 국민은 법률이 정하는 바에 의하여 공무담임권을 가진다.\\n \\n제26조 ①모든 국민은 법률이 정하는 바에 의하여 국가기관에 문서로 청원할 권리를 가진다.\\n②국가는 청원에 대하여 심사할 의무를 진다.\\n \\n제27조 ①모든 국민은 헌법과 법률이 정한 법관에 의하여 법률에 의한 재판을 받을 권리를 가진다.\\n②군인 또는 군무원이 아닌 국민은 대한민국의 영역 안에서는 중대한 군사상 기밀ㆍ초병ㆍ초소ㆍ유독음식물공급\\nㆍ포로ㆍ군용물에 관한 죄중 법률이 정한 경우와 비상계엄이 선포된 경우를 제외하고는 군사법원의 재판을 받지\\n아니한다.\\n③모든 국민은 신속한 재판을 받을 권리를 가진다. 형사피고인은 상당한 이유가 없는 한 지체없이 공개재판을 받을\\n권리를 가진다.\\n④형사피고인은 유죄의 판결이 확정될 때까지는 무죄로 추정된다.\\n⑤형사피해자는 법률이 정하는 바에 의하여 당해 사건의 재판절차에서 진술할 수 있다.\\n \\n제28조 형사피의자 또는 형사피고인으로서 구금되었던 자가 법률이 정하는 불기소처분을 받거나 무죄판결을 받은 때\\n에는 법률이 정하는 바에 의하여 국가에 정당한 보상을 청구할 수 있다.\\n \\n제29조 ①공무원의 직무상 불법행위로 손해를 받은 국민은 법률이 정하는 바에 의하여 국가 또는 공공단체에 정당한\\n배상을 청구할 수 있다. 이 경우 공무원 자신의 책임은 면제되지 아니한다.\\n②군인ㆍ군무원ㆍ경찰공무원 기타 법률이 정하는 자가 전투ㆍ훈련등 직무집행과 관련하여 받은 손해에 대하여는\\n법률이 정하는 보상 외에 국가 또는 공공단체에 공무원의 직무상 불법행위로 인한 배상은 청구할 수 없다.\\n \\n제30조 타인의 범죄행위로 인하여 생명ㆍ신체에 대한 피해를 받은 국민은 법률이 정하는 바에 의하여 국가로부터 구조\\n를 받을 수 있다.\\n \\n제31조 ①모든 국민은 능력에 따라 균등하게 교육을 받을 권리를 가진다.\\n②모든 국민은 그 보호하는 자녀에게 적어도 초등교육과 법률이 정하는 교육을 받게 할 의무를 진다.\\n③의무교육은 무상으로 한다.\\n④교육의 자주성ㆍ전문성ㆍ정치적 중립성 및 대학의 자율성은 법률이 정하는 바에 의하여 보장된다.\\n⑤국가는 평생교육을 진흥하여야 한다.\\n⑥학교교육 및 평생교육을 포함한 교육제도와 그 운영, 교육재정 및 교원의 지위에 관한 기본적인 사항은 법률로 정\\n한다.'), Document(metadata={'producer': 'iText 2.1.7 by 1T3XT', 'creator': 'PyPDF', 'creationdate': '2024-04-01T21:26:24+09:00', 'moddate': '2024-04-01T21:26:24+09:00', 'source': '/content/drive/MyDrive/Colab Notebooks/대한민국헌법(헌법)(제00010호)(19880225).pdf', 'total_pages': 14, 'page': 3, 'page_label': '4'}, page_content='법제처                                                            4                                                       국가법령정보센터\\n대한민국헌법\\n제32조 ①모든 국민은 근로의 권리를 가진다. 국가는 사회적ㆍ경제적 방법으로 근로자의 고용의 증진과 적정임금의 보\\n장에 노력하여야 하며, 법률이 정하는 바에 의하여 최저임금제를 시행하여야 한다.\\n②모든 국민은 근로의 의무를 진다. 국가는 근로의 의무의 내용과 조건을 민주주의원칙에 따라 법률로 정한다.\\n③근로조건의 기준은 인간의 존엄성을 보장하도록 법률로 정한다.\\n④여자의 근로는 특별한 보호를 받으며, 고용ㆍ임금 및 근로조건에 있어서 부당한 차별을 받지 아니한다.\\n⑤연소자의 근로는 특별한 보호를 받는다.\\n⑥국가유공자ㆍ상이군경 및 전몰군경의 유가족은 법률이 정하는 바에 의하여 우선적으로 근로의 기회를 부여받는\\n다.\\n \\n제33조 ①근로자는 근로조건의 향상을 위하여 자주적인 단결권ㆍ단체교섭권 및 단체행동권을 가진다.\\n②공무원인 근로자는 법률이 정하는 자에 한하여 단결권ㆍ단체교섭권 및 단체행동권을 가진다.\\n③법률이 정하는 주요방위산업체에 종사하는 근로자의 단체행동권은 법률이 정하는 바에 의하여 이를 제한하거나\\n인정하지 아니할 수 있다.\\n \\n제34조 ①모든 국민은 인간다운 생활을 할 권리를 가진다.\\n②국가는 사회보장ㆍ사회복지의 증진에 노력할 의무를 진다.\\n③국가는 여자의 복지와 권익의 향상을 위하여 노력하여야 한다.\\n④국가는 노인과 청소년의 복지향상을 위한 정책을 실시할 의무를 진다.\\n⑤신체장애자 및 질병ㆍ노령 기타의 사유로 생활능력이 없는 국민은 법률이 정하는 바에 의하여 국가의 보호를 받\\n는다.\\n⑥국가는 재해를 예방하고 그 위험으로부터 국민을 보호하기 위하여 노력하여야 한다.\\n \\n제35조 ①모든 국민은 건강하고 쾌적한 환경에서 생활할 권리를 가지며, 국가와 국민은 환경보전을 위하여 노력하여야\\n한다.\\n②환경권의 내용과 행사에 관하여는 법률로 정한다.\\n③국가는 주택개발정책등을 통하여 모든 국민이 쾌적한 주거생활을 할 수 있도록 노력하여야 한다.\\n \\n제36조 ①혼인과 가족생활은 개인의 존엄과 양성의 평등을 기초로 성립되고 유지되어야 하며, 국가는 이를 보장한다.\\n②국가는 모성의 보호를 위하여 노력하여야 한다.\\n③모든 국민은 보건에 관하여 국가의 보호를 받는다.\\n \\n제37조 ①국민의 자유와 권리는 헌법에 열거되지 아니한 이유로 경시되지 아니한다.\\n②국민의 모든 자유와 권리는 국가안전보장ㆍ질서유지 또는 공공복리를 위하여 필요한 경우에 한하여 법률로써 제\\n한할 수 있으며, 제한하는 경우에도 자유와 권리의 본질적인 내용을 침해할 수 없다.\\n \\n제38조 모든 국민은 법률이 정하는 바에 의하여 납세의 의무를 진다.\\n \\n제39조 ①모든 국민은 법률이 정하는 바에 의하여 국방의 의무를 진다.\\n②누구든지 병역의무의 이행으로 인하여 불이익한 처우를 받지 아니한다.\\n \\n       제3장 국회\\n \\n제40조 입법권은 국회에 속한다.\\n \\n제41조 ①국회는 국민의 보통ㆍ평등ㆍ직접ㆍ비밀선거에 의하여 선출된 국회의원으로 구성한다.\\n②국회의원의 수는 법률로 정하되, 200인 이상으로 한다.'), Document(metadata={'producer': 'iText 2.1.7 by 1T3XT', 'creator': 'PyPDF', 'creationdate': '2024-04-01T21:26:24+09:00', 'moddate': '2024-04-01T21:26:24+09:00', 'source': '/content/drive/MyDrive/Colab Notebooks/대한민국헌법(헌법)(제00010호)(19880225).pdf', 'total_pages': 14, 'page': 4, 'page_label': '5'}, page_content='법제처                                                            5                                                       국가법령정보센터\\n대한민국헌법\\n③국회의원의 선거구와 비례대표제 기타 선거에 관한 사항은 법률로 정한다.\\n \\n제42조 국회의원의 임기는 4년으로 한다.\\n \\n제43조 국회의원은 법률이 정하는 직을 겸할 수 없다.\\n \\n제44조 ①국회의원은 현행범인인 경우를 제외하고는 회기 중 국회의 동의없이 체포 또는 구금되지 아니한다.\\n②국회의원이 회기 전에 체포 또는 구금된 때에는 현행범인이 아닌 한 국회의 요구가 있으면 회기 중 석방된다.\\n \\n제45조 국회의원은 국회에서 직무상 행한 발언과 표결에 관하여 국회 외에서 책임을 지지 아니한다.\\n \\n제46조 ①국회의원은 청렴의 의무가 있다.\\n②국회의원은 국가이익을 우선하여 양심에 따라 직무를 행한다.\\n③국회의원은 그 지위를 남용하여 국가ㆍ공공단체 또는 기업체와의 계약이나 그 처분에 의하여 재산상의 권리ㆍ이\\n익 또는 직위를 취득하거나 타인을 위하여 그 취득을 알선할 수 없다.\\n \\n제47조 ①국회의 정기회는 법률이 정하는 바에 의하여 매년 1회 집회되며, 국회의 임시회는 대통령 또는 국회재적의원\\n4분의 1 이상의 요구에 의하여 집회된다.\\n②정기회의 회기는 100일을, 임시회의 회기는 30일을 초과할 수 없다.\\n③대통령이 임시회의 집회를 요구할 때에는 기간과 집회요구의 이유를 명시하여야 한다.\\n \\n제48조 국회는 의장 1인과 부의장 2인을 선출한다.\\n \\n제49조 국회는 헌법 또는 법률에 특별한 규정이 없는 한 재적의원 과반수의 출석과 출석의원 과반수의 찬성으로 의결\\n한다. 가부동수인 때에는 부결된 것으로 본다.\\n \\n제50조 ①국회의 회의는 공개한다. 다만, 출석의원 과반수의 찬성이 있거나 의장이 국가의 안전보장을 위하여 필요하다\\n고 인정할 때에는 공개하지 아니할 수 있다.\\n②공개하지 아니한 회의내용의 공표에 관하여는 법률이 정하는 바에 의한다.\\n \\n제51조 국회에 제출된 법률안 기타의 의안은 회기 중에 의결되지 못한 이유로 폐기되지 아니한다. 다만, 국회의원의 임\\n기가 만료된 때에는 그러하지 아니하다.\\n \\n제52조 국회의원과 정부는 법률안을 제출할 수 있다.\\n \\n제53조 ①국회에서 의결된 법률안은 정부에 이송되어 15일 이내에 대통령이 공포한다.\\n②법률안에 이의가 있을 때에는 대통령은 제1항의 기간내에 이의서를 붙여 국회로 환부하고, 그 재의를 요구할 수\\n있다. 국회의 폐회 중에도 또한 같다.\\n③대통령은 법률안의 일부에 대하여 또는 법률안을 수정하여 재의를 요구할 수 없다.\\n④재의의 요구가 있을 때에는 국회는 재의에 붙이고, 재적의원 과반수의 출석과 출석의원 3분의 2 이상의 찬성으로\\n전과 같은 의결을 하면 그 법률안은 법률로서 확정된다.\\n⑤대통령이 제1항의 기간 내에 공포나 재의의 요구를 하지 아니한 때에도 그 법률안은 법률로서 확정된다.\\n⑥대통령은 제4항과 제5항의 규정에 의하여 확정된 법률을 지체없이 공포하여야 한다. 제5항에 의하여 법률이 확정\\n된 후 또는 제4항에 의한 확정법률이 정부에 이송된 후 5일 이내에 대통령이 공포하지 아니할 때에는 국회의장이\\n이를 공포한다.\\n⑦법률은 특별한 규정이 없는 한 공포한 날로부터 20일을 경과함으로써 효력을 발생한다.\\n \\n제54조 ①국회는 국가의 예산안을 심의ㆍ확정한다.'), Document(metadata={'producer': 'iText 2.1.7 by 1T3XT', 'creator': 'PyPDF', 'creationdate': '2024-04-01T21:26:24+09:00', 'moddate': '2024-04-01T21:26:24+09:00', 'source': '/content/drive/MyDrive/Colab Notebooks/대한민국헌법(헌법)(제00010호)(19880225).pdf', 'total_pages': 14, 'page': 5, 'page_label': '6'}, page_content='법제처                                                            6                                                       국가법령정보센터\\n대한민국헌법\\n②정부는 회계연도마다 예산안을 편성하여 회계연도 개시 90일 전까지 국회에 제출하고, 국회는 회계연도 개시\\n30일 전까지 이를 의결하여야 한다.\\n③새로운 회계연도가 개시될 때까지 예산안이 의결되지 못한 때에는 정부는 국회에서 예산안이 의결될 때까지 다\\n음의 목적을 위한 경비는 전년도 예산에 준하여 집행할 수 있다.\\n1. 헌법이나 법률에 의하여 설치된 기관 또는 시설의 유지ㆍ운영\\n2. 법률상 지출의무의 이행\\n3. 이미 예산으로 승인된 사업의 계속\\n \\n제55조 ①한 회계연도를 넘어 계속하여 지출할 필요가 있을 때에는 정부는 연한을 정하여 계속비로서 국회의 의결을\\n얻어야 한다.\\n②예비비는 총액으로 국회의 의결을 얻어야 한다. 예비비의 지출은 차기국회의 승인을 얻어야 한다.\\n \\n제56조 정부는 예산에 변경을 가할 필요가 있을 때에는 추가경정예산안을 편성하여 국회에 제출할 수 있다.\\n \\n제57조 국회는 정부의 동의 없이 정부가 제출한 지출예산 각항의 금액을 증가하거나 새 비목을 설치할 수 없다.\\n \\n제58조 국채를 모집하거나 예산 외에 국가의 부담이 될 계약을 체결하려 할 때에는 정부는 미리 국회의 의결을 얻어야\\n한다.\\n \\n제59조 조세의 종목과 세율은 법률로 정한다.\\n \\n제60조 ①국회는 상호원조 또는 안전보장에 관한 조약, 중요한 국제조직에 관한 조약, 우호통상항해조약, 주권의 제약\\n에 관한 조약, 강화조약, 국가나 국민에게 중대한 재정적 부담을 지우는 조약 또는 입법사항에 관한 조약의 체결ㆍ비\\n준에 대한 동의권을 가진다.\\n②국회는 선전포고, 국군의 외국에의 파견 또는 외국군대의 대한민국 영역 안에서의 주류에 대한 동의권을 가진다.\\n \\n제61조 ①국회는 국정을 감사하거나 특정한 국정사안에 대하여 조사할 수 있으며, 이에 필요한 서류의 제출 또는 증인\\n의 출석과 증언이나 의견의 진술을 요구할 수 있다.\\n②국정감사 및 조사에 관한 절차 기타 필요한 사항은 법률로 정한다.\\n \\n제62조 ①국무총리ㆍ국무위원 또는 정부위원은 국회나 그 위원회에 출석하여 국정처리상황을 보고하거나 의견을 진술\\n하고 질문에 응답할 수 있다.\\n②국회나 그 위원회의 요구가 있을 때에는 국무총리ㆍ국무위원 또는 정부위원은 출석ㆍ답변하여야 하며, 국무총리\\n또는 국무위원이 출석요구를 받은 때에는 국무위원 또는 정부위원으로 하여금 출석ㆍ답변하게 할 수 있다.\\n \\n제63조 ①국회는 국무총리 또는 국무위원의 해임을 대통령에게 건의할 수 있다.\\n②제1항의 해임건의는 국회재적의원 3분의 1 이상의 발의에 의하여 국회재적의원 과반수의 찬성이 있어야 한다.\\n \\n제64조 ①국회는 법률에 저촉되지 아니하는 범위 안에서 의사와 내부규율에 관한 규칙을 제정할 수 있다.\\n②국회는 의원의 자격을 심사하며, 의원을 징계할 수 있다.\\n③의원을 제명하려면 국회재적의원 3분의 2 이상의 찬성이 있어야 한다.\\n④제2항과 제3항의 처분에 대하여는 법원에 제소할 수 없다.\\n \\n제65조 ①대통령ㆍ국무총리ㆍ국무위원ㆍ행정각부의 장ㆍ헌법재판소 재판관ㆍ법관ㆍ중앙선거관리위원회 위원ㆍ감사\\n원장ㆍ감사위원 기타 법률이 정한 공무원이 그 직무집행에 있어서 헌법이나 법률을 위배한 때에는 국회는 탄핵의\\n소추를 의결할 수 있다.\\n②제1항의 탄핵소추는 국회재적의원 3분의 1 이상의 발의가 있어야 하며, 그 의결은 국회재적의원 과반수의 찬성이\\n있어야 한다. 다만, 대통령에 대한 탄핵소추는 국회재적의원 과반수의 발의와 국회재적의원 3분의 2 이상의 찬성이'), Document(metadata={'producer': 'iText 2.1.7 by 1T3XT', 'creator': 'PyPDF', 'creationdate': '2024-04-01T21:26:24+09:00', 'moddate': '2024-04-01T21:26:24+09:00', 'source': '/content/drive/MyDrive/Colab Notebooks/대한민국헌법(헌법)(제00010호)(19880225).pdf', 'total_pages': 14, 'page': 6, 'page_label': '7'}, page_content='법제처                                                            7                                                       국가법령정보센터\\n대한민국헌법\\n있어야 한다.\\n③탄핵소추의 의결을 받은 자는 탄핵심판이 있을 때까지 그 권한행사가 정지된다.\\n④탄핵결정은 공직으로부터 파면함에 그친다. 그러나, 이에 의하여 민사상이나 형사상의 책임이 면제되지는 아니한\\n다.\\n \\n       제4장 정부\\n         제1절 대통령\\n \\n제66조 ①대통령은 국가의 원수이며, 외국에 대하여 국가를 대표한다.\\n②대통령은 국가의 독립ㆍ영토의 보전ㆍ국가의 계속성과 헌법을 수호할 책무를 진다.\\n③대통령은 조국의 평화적 통일을 위한 성실한 의무를 진다.\\n④행정권은 대통령을 수반으로 하는 정부에 속한다.\\n \\n제67조 ①대통령은 국민의 보통ㆍ평등ㆍ직접ㆍ비밀선거에 의하여 선출한다.\\n②제1항의 선거에 있어서 최고득표자가 2인 이상인 때에는 국회의 재적의원 과반수가 출석한 공개회의에서 다수표\\n를 얻은 자를 당선자로 한다.\\n③대통령후보자가 1인일 때에는 그 득표수가 선거권자 총수의 3분의 1 이상이 아니면 대통령으로 당선될 수 없다.\\n④대통령으로 선거될 수 있는 자는 국회의원의 피선거권이 있고 선거일 현재 40세에 달하여야 한다.\\n⑤대통령의 선거에 관한 사항은 법률로 정한다.\\n \\n제68조 ①대통령의 임기가 만료되는 때에는 임기만료 70일 내지 40일 전에 후임자를 선거한다.\\n②대통령이 궐위된 때 또는 대통령 당선자가 사망하거나 판결 기타의 사유로 그 자격을 상실한 때에는 60일 이내에\\n후임자를 선거한다.\\n \\n제69조 대통령은 취임에 즈음하여 다음의 선서를 한다.\\n“나는 헌법을 준수하고 국가를 보위하며 조국의 평화적 통일과 국민의 자유와 복리의 증진 및 민족문화의 창달에\\n노력하여 대통령으로서의 직책을 성실히 수행할 것을 국민 앞에 엄숙히 선서합니다.”\\n \\n제70조 대통령의 임기는 5년으로 하며, 중임할 수 없다.\\n \\n제71조 대통령이 궐위되거나 사고로 인하여 직무를 수행할 수 없을 때에는 국무총리, 법률이 정한 국무위원의 순서로\\n그 권한을 대행한다.\\n \\n제72조 대통령은 필요하다고 인정할 때에는 외교ㆍ국방ㆍ통일 기타 국가안위에 관한 중요정책을 국민투표에 붙일 수\\n있다.\\n \\n제73조 대통령은 조약을 체결ㆍ비준하고, 외교사절을 신임ㆍ접수 또는 파견하며, 선전포고와 강화를 한다.\\n \\n제74조 ①대통령은 헌법과 법률이 정하는 바에 의하여 국군을 통수한다.\\n②국군의 조직과 편성은 법률로 정한다.\\n \\n제75조 대통령은 법률에서 구체적으로 범위를 정하여 위임받은 사항과 법률을 집행하기 위하여 필요한 사항에 관하여\\n대통령령을 발할 수 있다.\\n \\n제76조 ①대통령은 내우ㆍ외환ㆍ천재ㆍ지변 또는 중대한 재정ㆍ경제상의 위기에 있어서 국가의 안전보장 또는 공공의\\n안녕질서를 유지하기 위하여 긴급한 조치가 필요하고 국회의 집회를 기다릴 여유가 없을 때에 한하여 최소한으로\\n필요한 재정ㆍ경제상의 처분을 하거나 이에 관하여 법률의 효력을 가지는 명령을 발할 수 있다.'), Document(metadata={'producer': 'iText 2.1.7 by 1T3XT', 'creator': 'PyPDF', 'creationdate': '2024-04-01T21:26:24+09:00', 'moddate': '2024-04-01T21:26:24+09:00', 'source': '/content/drive/MyDrive/Colab Notebooks/대한민국헌법(헌법)(제00010호)(19880225).pdf', 'total_pages': 14, 'page': 7, 'page_label': '8'}, page_content='법제처                                                            8                                                       국가법령정보센터\\n대한민국헌법\\n②대통령은 국가의 안위에 관계되는 중대한 교전상태에 있어서 국가를 보위하기 위하여 긴급한 조치가 필요하고\\n국회의 집회가 불가능한 때에 한하여 법률의 효력을 가지는 명령을 발할 수 있다.\\n③대통령은 제1항과 제2항의 처분 또는 명령을 한 때에는 지체없이 국회에 보고하여 그 승인을 얻어야 한다.\\n④제3항의 승인을 얻지 못한 때에는 그 처분 또는 명령은 그때부터 효력을 상실한다. 이 경우 그 명령에 의하여 개\\n정 또는 폐지되었던 법률은 그 명령이 승인을 얻지 못한 때부터 당연히 효력을 회복한다.\\n⑤대통령은 제3항과 제4항의 사유를 지체없이 공포하여야 한다.\\n \\n제77조 ①대통령은 전시ㆍ사변 또는 이에 준하는 국가비상사태에 있어서 병력으로써 군사상의 필요에 응하거나 공공\\n의 안녕질서를 유지할 필요가 있을 때에는 법률이 정하는 바에 의하여 계엄을 선포할 수 있다.\\n②계엄은 비상계엄과 경비계엄으로 한다.\\n③비상계엄이 선포된 때에는 법률이 정하는 바에 의하여 영장제도, 언론ㆍ출판ㆍ집회ㆍ결사의 자유, 정부나 법원의\\n권한에 관하여 특별한 조치를 할 수 있다.\\n④계엄을 선포한 때에는 대통령은 지체없이 국회에 통고하여야 한다.\\n⑤국회가 재적의원 과반수의 찬성으로 계엄의 해제를 요구한 때에는 대통령은 이를 해제하여야 한다.\\n \\n제78조 대통령은 헌법과 법률이 정하는 바에 의하여 공무원을 임면한다.\\n \\n제79조 ①대통령은 법률이 정하는 바에 의하여 사면ㆍ감형 또는 복권을 명할 수 있다.\\n②일반사면을 명하려면 국회의 동의를 얻어야 한다.\\n③사면ㆍ감형 및 복권에 관한 사항은 법률로 정한다.\\n \\n제80조 대통령은 법률이 정하는 바에 의하여 훈장 기타의 영전을 수여한다.\\n \\n제81조 대통령은 국회에 출석하여 발언하거나 서한으로 의견을 표시할 수 있다.\\n \\n제82조 대통령의 국법상 행위는 문서로써 하며, 이 문서에는 국무총리와 관계 국무위원이 부서한다. 군사에 관한 것도\\n또한 같다.\\n \\n제83조 대통령은 국무총리ㆍ국무위원ㆍ행정각부의 장 기타 법률이 정하는 공사의 직을 겸할 수 없다.\\n \\n제84조 대통령은 내란 또는 외환의 죄를 범한 경우를 제외하고는 재직 중 형사상의 소추를 받지 아니한다.\\n \\n제85조 전직대통령의 신분과 예우에 관하여는 법률로 정한다.\\n \\n         제2절 행정부\\n           제1관 국무총리와 국무위원\\n \\n제86조 ①국무총리는 국회의 동의를 얻어 대통령이 임명한다.\\n②국무총리는 대통령을 보좌하며, 행정에 관하여 대통령의 명을 받아 행정각부를 통할한다.\\n③군인은 현역을 면한 후가 아니면 국무총리로 임명될 수 없다.\\n \\n제87조 ①국무위원은 국무총리의 제청으로 대통령이 임명한다.\\n②국무위원은 국정에 관하여 대통령을 보좌하며, 국무회의의 구성원으로서 국정을 심의한다.\\n③국무총리는 국무위원의 해임을 대통령에게 건의할 수 있다.\\n④군인은 현역을 면한 후가 아니면 국무위원으로 임명될 수 없다.'), Document(metadata={'producer': 'iText 2.1.7 by 1T3XT', 'creator': 'PyPDF', 'creationdate': '2024-04-01T21:26:24+09:00', 'moddate': '2024-04-01T21:26:24+09:00', 'source': '/content/drive/MyDrive/Colab Notebooks/대한민국헌법(헌법)(제00010호)(19880225).pdf', 'total_pages': 14, 'page': 8, 'page_label': '9'}, page_content='법제처                                                            9                                                       국가법령정보센터\\n대한민국헌법\\n           제2관 국무회의\\n \\n제88조 ①국무회의는 정부의 권한에 속하는 중요한 정책을 심의한다.\\n②국무회의는 대통령ㆍ국무총리와 15인 이상 30인 이하의 국무위원으로 구성한다.\\n③대통령은 국무회의의 의장이 되고, 국무총리는 부의장이 된다.\\n \\n제89조 다음 사항은 국무회의의 심의를 거쳐야 한다.\\n1. 국정의 기본계획과 정부의 일반정책\\n2. 선전ㆍ강화 기타 중요한 대외정책\\n3. 헌법개정안ㆍ국민투표안ㆍ조약안ㆍ법률안 및 대통령령안\\n4. 예산안ㆍ결산ㆍ국유재산처분의 기본계획ㆍ국가의 부담이 될 계약 기타 재정에 관한 중요사항\\n5. 대통령의 긴급명령ㆍ긴급재정경제처분 및 명령 또는 계엄과 그 해제\\n6. 군사에 관한 중요사항\\n7. 국회의 임시회 집회의 요구\\n8. 영전수여\\n9. 사면ㆍ감형과 복권\\n10. 행정각부간의 권한의 획정\\n11. 정부 안의 권한의 위임 또는 배정에 관한 기본계획\\n12. 국정처리상황의 평가ㆍ분석\\n13. 행정각부의 중요한 정책의 수립과 조정\\n14. 정당해산의 제소\\n15. 정부에 제출 또는 회부된 정부의 정책에 관계되는 청원의 심사\\n16. 검찰총장ㆍ합동참모의장ㆍ각군참모총장ㆍ국립대학교총장ㆍ대사 기타 법률이 정한 공무원과 국영기업체관리자\\n의 임명\\n17. 기타 대통령ㆍ국무총리 또는 국무위원이 제출한 사항\\n \\n제90조 ①국정의 중요한 사항에 관한 대통령의 자문에 응하기 위하여 국가원로로 구성되는 국가원로자문회의를 둘 수\\n있다.\\n②국가원로자문회의의 의장은 직전대통령이 된다. 다만, 직전대통령이 없을 때에는 대통령이 지명한다.\\n③국가원로자문회의의 조직ㆍ직무범위 기타 필요한 사항은 법률로 정한다.\\n \\n제91조 ①국가안전보장에 관련되는 대외정책ㆍ군사정책과 국내정책의 수립에 관하여 국무회의의 심의에 앞서 대통령\\n의 자문에 응하기 위하여 국가안전보장회의를 둔다.\\n②국가안전보장회의는 대통령이 주재한다.\\n③국가안전보장회의의 조직ㆍ직무범위 기타 필요한 사항은 법률로 정한다.\\n \\n제92조 ①평화통일정책의 수립에 관한 대통령의 자문에 응하기 위하여 민주평화통일자문회의를 둘 수 있다.\\n②민주평화통일자문회의의 조직ㆍ직무범위 기타 필요한 사항은 법률로 정한다.\\n \\n제93조 ①국민경제의 발전을 위한 중요정책의 수립에 관하여 대통령의 자문에 응하기 위하여 국민경제자문회의를 둘\\n수 있다.\\n②국민경제자문회의의 조직ㆍ직무범위 기타 필요한 사항은 법률로 정한다.\\n \\n           제3관 행정각부'), Document(metadata={'producer': 'iText 2.1.7 by 1T3XT', 'creator': 'PyPDF', 'creationdate': '2024-04-01T21:26:24+09:00', 'moddate': '2024-04-01T21:26:24+09:00', 'source': '/content/drive/MyDrive/Colab Notebooks/대한민국헌법(헌법)(제00010호)(19880225).pdf', 'total_pages': 14, 'page': 9, 'page_label': '10'}, page_content='법제처                                                            10                                                       국가법령정보센터\\n대한민국헌법\\n제94조 행정각부의 장은 국무위원 중에서 국무총리의 제청으로 대통령이 임명한다.\\n \\n제95조 국무총리 또는 행정각부의 장은 소관사무에 관하여 법률이나 대통령령의 위임 또는 직권으로 총리령 또는 부령\\n을 발할 수 있다.\\n \\n제96조 행정각부의 설치ㆍ조직과 직무범위는 법률로 정한다.\\n \\n           제4관 감사원\\n \\n제97조 국가의 세입ㆍ세출의 결산, 국가 및 법률이 정한 단체의 회계검사와 행정기관 및 공무원의 직무에 관한 감찰을\\n하기 위하여 대통령 소속하에 감사원을 둔다.\\n \\n제98조 ①감사원은 원장을 포함한 5인 이상 11인 이하의 감사위원으로 구성한다.\\n②원장은 국회의 동의를 얻어 대통령이 임명하고, 그 임기는 4년으로 하며, 1차에 한하여 중임할 수 있다.\\n③감사위원은 원장의 제청으로 대통령이 임명하고, 그 임기는 4년으로 하며, 1차에 한하여 중임할 수 있다.\\n \\n제99조 감사원은 세입ㆍ세출의 결산을 매년 검사하여 대통령과 차년도국회에 그 결과를 보고하여야 한다.\\n \\n제100조 감사원의 조직ㆍ직무범위ㆍ감사위원의 자격ㆍ감사대상공무원의 범위 기타 필요한 사항은 법률로 정한다.\\n \\n       제5장 법원\\n \\n제101조 ①사법권은 법관으로 구성된 법원에 속한다.\\n②법원은 최고법원인 대법원과 각급법원으로 조직된다.\\n③법관의 자격은 법률로 정한다.\\n \\n제102조 ①대법원에 부를 둘 수 있다.\\n②대법원에 대법관을 둔다. 다만, 법률이 정하는 바에 의하여 대법관이 아닌 법관을 둘 수 있다.\\n③대법원과 각급법원의 조직은 법률로 정한다.\\n \\n제103조 법관은 헌법과 법률에 의하여 그 양심에 따라 독립하여 심판한다.\\n \\n제104조 ①대법원장은 국회의 동의를 얻어 대통령이 임명한다.\\n②대법관은 대법원장의 제청으로 국회의 동의를 얻어 대통령이 임명한다.\\n③대법원장과 대법관이 아닌 법관은 대법관회의의 동의를 얻어 대법원장이 임명한다.\\n \\n제105조 ①대법원장의 임기는 6년으로 하며, 중임할 수 없다.\\n②대법관의 임기는 6년으로 하며, 법률이 정하는 바에 의하여 연임할 수 있다.\\n③대법원장과 대법관이 아닌 법관의 임기는 10년으로 하며, 법률이 정하는 바에 의하여 연임할 수 있다.\\n④법관의 정년은 법률로 정한다.\\n \\n제106조 ①법관은 탄핵 또는 금고 이상의 형의 선고에 의하지 아니하고는 파면되지 아니하며, 징계처분에 의하지 아니\\n하고는 정직ㆍ감봉 기타 불리한 처분을 받지 아니한다.\\n②법관이 중대한 심신상의 장해로 직무를 수행할 수 없을 때에는 법률이 정하는 바에 의하여 퇴직하게 할 수 있다.\\n \\n제107조 ①법률이 헌법에 위반되는 여부가 재판의 전제가 된 경우에는 법원은 헌법재판소에 제청하여 그 심판에 의하\\n여 재판한다.'), Document(metadata={'producer': 'iText 2.1.7 by 1T3XT', 'creator': 'PyPDF', 'creationdate': '2024-04-01T21:26:24+09:00', 'moddate': '2024-04-01T21:26:24+09:00', 'source': '/content/drive/MyDrive/Colab Notebooks/대한민국헌법(헌법)(제00010호)(19880225).pdf', 'total_pages': 14, 'page': 10, 'page_label': '11'}, page_content='법제처                                                            11                                                       국가법령정보센터\\n대한민국헌법\\n②명령ㆍ규칙 또는 처분이 헌법이나 법률에 위반되는 여부가 재판의 전제가 된 경우에는 대법원은 이를 최종적으\\n로 심사할 권한을 가진다.\\n③재판의 전심절차로서 행정심판을 할 수 있다. 행정심판의 절차는 법률로 정하되, 사법절차가 준용되어야 한다.\\n \\n제108조 대법원은 법률에 저촉되지 아니하는 범위 안에서 소송에 관한 절차, 법원의 내부규율과 사무처리에 관한 규칙\\n을 제정할 수 있다.\\n \\n제109조 재판의 심리와 판결은 공개한다. 다만, 심리는 국가의 안전보장 또는 안녕질서를 방해하거나 선량한 풍속을 해\\n할 염려가 있을 때에는 법원의 결정으로 공개하지 아니할 수 있다.\\n \\n제110조 ①군사재판을 관할하기 위하여 특별법원으로서 군사법원을 둘 수 있다.\\n②군사법원의 상고심은 대법원에서 관할한다.\\n③군사법원의 조직ㆍ권한 및 재판관의 자격은 법률로 정한다.\\n④비상계엄하의 군사재판은 군인ㆍ군무원의 범죄나 군사에 관한 간첩죄의 경우와 초병ㆍ초소ㆍ유독음식물공급ㆍ\\n포로에 관한 죄 중 법률이 정한 경우에 한하여 단심으로 할 수 있다. 다만, 사형을 선고한 경우에는 그러하지 아니하\\n다.\\n \\n       제6장 헌법재판소\\n \\n제111조 ①헌법재판소는 다음 사항을 관장한다.\\n1. 법원의 제청에 의한 법률의 위헌여부 심판\\n2. 탄핵의 심판\\n3. 정당의 해산 심판\\n4. 국가기관 상호간, 국가기관과 지방자치단체간 및 지방자치단체 상호간의 권한쟁의에 관한 심판\\n5. 법률이 정하는 헌법소원에 관한 심판\\n②헌법재판소는 법관의 자격을 가진 9인의 재판관으로 구성하며, 재판관은 대통령이 임명한다.\\n③제2항의 재판관중 3인은 국회에서 선출하는 자를, 3인은 대법원장이 지명하는 자를 임명한다.\\n④헌법재판소의 장은 국회의 동의를 얻어 재판관 중에서 대통령이 임명한다.\\n \\n제112조 ①헌법재판소 재판관의 임기는 6년으로 하며, 법률이 정하는 바에 의하여 연임할 수 있다.\\n②헌법재판소 재판관은 정당에 가입하거나 정치에 관여할 수 없다.\\n③헌법재판소 재판관은 탄핵 또는 금고 이상의 형의 선고에 의하지 아니하고는 파면되지 아니한다.\\n \\n제113조 ①헌법재판소에서 법률의 위헌결정, 탄핵의 결정, 정당해산의 결정 또는 헌법소원에 관한 인용결정을 할 때에\\n는 재판관 6인 이상의 찬성이 있어야 한다.\\n②헌법재판소는 법률에 저촉되지 아니하는 범위 안에서 심판에 관한 절차, 내부규율과 사무처리에 관한 규칙을 제\\n정할 수 있다.\\n③헌법재판소의 조직과 운영 기타 필요한 사항은 법률로 정한다.\\n \\n       제7장 선거관리\\n \\n제114조 ①선거와 국민투표의 공정한 관리 및 정당에 관한 사무를 처리하기 위하여 선거관리위원회를 둔다.\\n②중앙선거관리위원회는 대통령이 임명하는 3인, 국회에서 선출하는 3인과 대법원장이 지명하는 3인의 위원으로\\n구성한다. 위원장은 위원 중에서 호선한다.\\n③위원의 임기는 6년으로 한다.'), Document(metadata={'producer': 'iText 2.1.7 by 1T3XT', 'creator': 'PyPDF', 'creationdate': '2024-04-01T21:26:24+09:00', 'moddate': '2024-04-01T21:26:24+09:00', 'source': '/content/drive/MyDrive/Colab Notebooks/대한민국헌법(헌법)(제00010호)(19880225).pdf', 'total_pages': 14, 'page': 11, 'page_label': '12'}, page_content='법제처                                                            12                                                       국가법령정보센터\\n대한민국헌법\\n④위원은 정당에 가입하거나 정치에 관여할 수 없다.\\n⑤위원은 탄핵 또는 금고 이상의 형의 선고에 의하지 아니하고는 파면되지 아니한다.\\n⑥중앙선거관리위원회는 법령의 범위 안에서 선거관리ㆍ국민투표관리 또는 정당사무에 관한 규칙을 제정할 수 있\\n으며, 법률에 저촉되지 아니하는 범위 안에서 내부규율에 관한 규칙을 제정할 수 있다.\\n⑦각급 선거관리위원회의 조직ㆍ직무범위 기타 필요한 사항은 법률로 정한다.\\n \\n제115조 ①각급 선거관리위원회는 선거인명부의 작성 등 선거사무와 국민투표사무에 관하여 관계 행정기관에 필요한\\n지시를 할 수 있다.\\n②제1항의 지시를 받은 당해 행정기관은 이에 응하여야 한다.\\n \\n제116조 ①선거운동은 각급 선거관리위원회의 관리하에 법률이 정하는 범위 안에서 하되, 균등한 기회가 보장되어야\\n한다.\\n②선거에 관한 경비는 법률이 정하는 경우를 제외하고는 정당 또는 후보자에게 부담시킬 수 없다.\\n \\n       제8장 지방자치\\n \\n제117조 ①지방자치단체는 주민의 복리에 관한 사무를 처리하고 재산을 관리하며, 법령의 범위 안에서 자치에 관한 규\\n정을 제정할 수 있다.\\n②지방자치단체의 종류는 법률로 정한다.\\n \\n제118조 ①지방자치단체에 의회를 둔다.\\n②지방의회의 조직ㆍ권한ㆍ의원선거와 지방자치단체의 장의 선임방법 기타 지방자치단체의 조직과 운영에 관한\\n사항은 법률로 정한다.\\n \\n       제9장 경제\\n \\n제119조 ①대한민국의 경제질서는 개인과 기업의 경제상의 자유와 창의를 존중함을 기본으로 한다.\\n②국가는 균형있는 국민경제의 성장 및 안정과 적정한 소득의 분배를 유지하고, 시장의 지배와 경제력의 남용을 방\\n지하며, 경제주체간의 조화를 통한 경제의 민주화를 위하여 경제에 관한 규제와 조정을 할 수 있다.\\n \\n제120조 ①광물 기타 중요한 지하자원ㆍ수산자원ㆍ수력과 경제상 이용할 수 있는 자연력은 법률이 정하는 바에 의하\\n여 일정한 기간 그 채취ㆍ개발 또는 이용을 특허할 수 있다.\\n②국토와 자원은 국가의 보호를 받으며, 국가는 그 균형있는 개발과 이용을 위하여 필요한 계획을 수립한다.\\n \\n제121조 ①국가는 농지에 관하여 경자유전의 원칙이 달성될 수 있도록 노력하여야 하며, 농지의 소작제도는 금지된다.\\n②농업생산성의 제고와 농지의 합리적인 이용을 위하거나 불가피한 사정으로 발생하는 농지의 임대차와 위탁경영\\n은 법률이 정하는 바에 의하여 인정된다.\\n \\n제122조 국가는 국민 모두의 생산 및 생활의 기반이 되는 국토의 효율적이고 균형있는 이용ㆍ개발과 보전을 위하여 법\\n률이 정하는 바에 의하여 그에 관한 필요한 제한과 의무를 과할 수 있다.\\n \\n제123조 ①국가는 농업 및 어업을 보호ㆍ육성하기 위하여 농ㆍ어촌종합개발과 그 지원등 필요한 계획을 수립ㆍ시행하\\n여야 한다.\\n②국가는 지역간의 균형있는 발전을 위하여 지역경제를 육성할 의무를 진다.\\n③국가는 중소기업을 보호ㆍ육성하여야 한다.\\n④국가는 농수산물의 수급균형과 유통구조의 개선에 노력하여 가격안정을 도모함으로써 농ㆍ어민의 이익을 보호\\n한다.'), Document(metadata={'producer': 'iText 2.1.7 by 1T3XT', 'creator': 'PyPDF', 'creationdate': '2024-04-01T21:26:24+09:00', 'moddate': '2024-04-01T21:26:24+09:00', 'source': '/content/drive/MyDrive/Colab Notebooks/대한민국헌법(헌법)(제00010호)(19880225).pdf', 'total_pages': 14, 'page': 12, 'page_label': '13'}, page_content='법제처                                                            13                                                       국가법령정보센터\\n대한민국헌법\\n⑤국가는 농ㆍ어민과 중소기업의 자조조직을 육성하여야 하며, 그 자율적 활동과 발전을 보장한다.\\n \\n제124조 국가는 건전한 소비행위를 계도하고 생산품의 품질향상을 촉구하기 위한 소비자보호운동을 법률이 정하는 바\\n에 의하여 보장한다.\\n \\n제125조 국가는 대외무역을 육성하며, 이를 규제ㆍ조정할 수 있다.\\n \\n제126조 국방상 또는 국민경제상 긴절한 필요로 인하여 법률이 정하는 경우를 제외하고는, 사영기업을 국유 또는 공유\\n로 이전하거나 그 경영을 통제 또는 관리할 수 없다.\\n \\n제127조 ①국가는 과학기술의 혁신과 정보 및 인력의 개발을 통하여 국민경제의 발전에 노력하여야 한다.\\n②국가는 국가표준제도를 확립한다.\\n③대통령은 제1항의 목적을 달성하기 위하여 필요한 자문기구를 둘 수 있다.\\n \\n       제10장 헌법개정\\n \\n제128조 ①헌법개정은 국회재적의원 과반수 또는 대통령의 발의로 제안된다.\\n②대통령의 임기연장 또는 중임변경을 위한 헌법개정은 그 헌법개정 제안 당시의 대통령에 대하여는 효력이 없다.\\n \\n제129조 제안된 헌법개정안은 대통령이 20일 이상의 기간 이를 공고하여야 한다.\\n \\n제130조 ①국회는 헌법개정안이 공고된 날로부터 60일 이내에 의결하여야 하며, 국회의 의결은 재적의원 3분의 2 이상\\n의 찬성을 얻어야 한다.\\n②헌법개정안은 국회가 의결한 후 30일 이내에 국민투표에 붙여 국회의원선거권자 과반수의 투표와 투표자 과반수\\n의 찬성을 얻어야 한다.\\n③헌법개정안이 제2항의 찬성을 얻은 때에는 헌법개정은 확정되며, 대통령은 즉시 이를 공포하여야 한다.\\n  \\n부칙 <제10호,1987. 10. 29.>\\n제1조 이 헌법은 1988년 2월 25일부터 시행한다. 다만, 이 헌법을 시행하기 위하여 필요한 법률의 제정ㆍ개정과 이 헌\\n법에 의한 대통령 및 국회의원의 선거 기타 이 헌법시행에 관한 준비는 이 헌법시행 전에 할 수 있다.\\n제2조 ①이 헌법에 의한 최초의 대통령선거는 이 헌법시행일 40일 전까지 실시한다.\\n②이 헌법에 의한 최초의 대통령의 임기는 이 헌법시행일로부터 개시한다.\\n제3조 ①이 헌법에 의한 최초의 국회의원선거는 이 헌법공포일로부터 6월 이내에 실시하며, 이 헌법에 의하여 선출된\\n최초의 국회의원의 임기는 국회의원선거후 이 헌법에 의한 국회의 최초의 집회일로부터 개시한다.\\n②이 헌법공포 당시의 국회의원의 임기는 제1항에 의한 국회의 최초의 집회일 전일까지로 한다.\\n제4조 ①이 헌법시행 당시의 공무원과 정부가 임명한 기업체의 임원은 이 헌법에 의하여 임명된 것으로 본다. 다만, 이\\n헌법에 의하여 선임방법이나 임명권자가 변경된 공무원과 대법원장 및 감사원장은 이 헌법에 의하여 후임자가 선\\n임될 때까지 그 직무를 행하며, 이 경우 전임자인 공무원의 임기는 후임자가 선임되는 전일까지로 한다.\\n②이 헌법시행 당시의 대법원장과 대법원판사가 아닌 법관은 제1항 단서의 규정에 불구하고 이 헌법에 의하여 임명\\n된 것으로 본다.\\n③이 헌법 중 공무원의 임기 또는 중임제한에 관한 규정은 이 헌법에 의하여 그 공무원이 최초로 선출 또는 임명된\\n때로부터 적용한다.'), Document(metadata={'producer': 'iText 2.1.7 by 1T3XT', 'creator': 'PyPDF', 'creationdate': '2024-04-01T21:26:24+09:00', 'moddate': '2024-04-01T21:26:24+09:00', 'source': '/content/drive/MyDrive/Colab Notebooks/대한민국헌법(헌법)(제00010호)(19880225).pdf', 'total_pages': 14, 'page': 13, 'page_label': '14'}, page_content='법제처                                                            14                                                       국가법령정보센터\\n대한민국헌법\\n제5조 이 헌법시행 당시의 법령과 조약은 이 헌법에 위배되지 아니하는 한 그 효력을 지속한다.\\n제6조 이 헌법시행 당시에 이 헌법에 의하여 새로 설치될 기관의 권한에 속하는 직무를 행하고 있는 기관은 이 헌법에\\n의하여 새로운 기관이 설치될 때까지 존속하며 그 직무를 행한다.')]\n"
          ]
        }
      ]
    },
    {
      "cell_type": "code",
      "source": [
        "from langchain_community.embeddings import HuggingFaceEmbeddings\n",
        "\n",
        "model_name=\"jhgan/ko-sbert-nli\"\n",
        "model_kwargs={'device':'cpu'}\n",
        "encode_kwargs={'normalize_embeddings':True}\n",
        "embedding=HuggingFaceEmbeddings(\n",
        "    model_name=model_name,\n",
        "    model_kwargs=model_kwargs,\n",
        "    encode_kwargs=encode_kwargs\n",
        ")\n",
        "\n",
        "vectorstore=Chroma(\n",
        "    collection_name=\"full_documents\",\n",
        "    embedding_function=embedding\n",
        ")\n",
        "\n",
        "# Decalre layer for saveing upper document 상위 문서 저장 위한 레이어 선언\n",
        "store=InMemoryStore()\n",
        "id_key=\"doc_id\"\n",
        "\n",
        "# Use doc_id as the key value to link upper and lower documents 상위문서와 하위문서를 연결한 키값으로 doc_id 사용\n",
        "\n",
        "retriever=MultiVectorRetriever(\n",
        "    vectorstore=vectorstore,\n",
        "    store=store,\n",
        "    id_key=id_key\n",
        ")\n",
        "\n",
        "# Call the uuid library to assign a unique value to the document id 문서 id로 고유한 값을 지정하기 위하여 uuid 라이브러리 호출\n",
        "\n",
        "import uuid\n",
        "doc_ids=[str(uuid.uuid4()) for _ in docs]"
      ],
      "metadata": {
        "id": "xgRwkqoh4Gm3"
      },
      "execution_count": null,
      "outputs": []
    },
    {
      "cell_type": "markdown",
      "source": [
        "#### Long-Context Recorder 없이 유사문서 출력"
      ],
      "metadata": {
        "id": "qyiBLpx7k5hK"
      }
    },
    {
      "cell_type": "code",
      "source": [
        "from langchain.chains import LLMChain, StuffDocumentsChain\n",
        "from langchain.prompts import PromptTemplate\n",
        "from langchain.document_transformers import LongContextReorder\n",
        "from langchain_community.embeddings import HuggingFaceEmbeddings\n",
        "from langchain_chroma import Chroma\n",
        "import google.generativeai as genai\n",
        "import os\n",
        "import getpass\n",
        "\n",
        "if \"GOOGLE_API_KEY\" not in os.environ:\n",
        "    os.environ[\"GOOGLE_API_KEY\"] = getpass.getpass(\"Google AI API 키를 입력하세요: \")\n",
        "\n",
        "google_api_key = os.environ.get(\"GOOGLE_API_KEY\")\n",
        "\n",
        "# Declare Korean embedding model\n",
        "model_name = \"jhgan/ko-sbert-nli\"\n",
        "model_kwargs = {'device': 'cpu'}\n",
        "encode_kwargs = {'normalize_embeddings': True}\n",
        "embedding = HuggingFaceEmbeddings(\n",
        "    model_name=model_name,\n",
        "    model_kwargs=model_kwargs,\n",
        "    encode_kwargs=encode_kwargs\n",
        ")\n",
        "\n",
        "texts=[\n",
        "    \"바스켓볼은 훌륭한 스포츠입니다.\",\n",
        "    \"플라이 미 투 더 문은 제가 가장 좋아하는 노래 중 하나입니다.\",\n",
        "    \"셀틱스는 제가 가장 좋아하는 팀입니다.\",\n",
        "    \"이것은 보스턴 셀틱스에 관한 문서입니다.\",\n",
        "    \"보스턴 셀틱스는 바스켈볼의 훌륭한 팀입니다.\",\n",
        "    \"저는 단순히 영화보러 가는것을 좋아합니다.\",\n",
        "    \"보스터 셀틱스가 20점차로 이겼어요.\",\n",
        "    \"이것은 그냥 임의의 텍스트입니다.\",\n",
        "    \"엘든 링은 지낭 15년 동안 최고의 게임 중 하나입니다.\",\n",
        "    \"L. 코넷은 최고의 셀틱스 선수 중 한명입니다.\",\n",
        "    \"래리 버드는 상징적인 NBA 선수였습니다.\",\n",
        "]\n",
        "\n",
        "# Delete existing Chroma collection if it exists\n",
        "# This prevents potential duplicates when re-running the code\n",
        "Chroma().delete_collection()\n",
        "\n",
        "# Chroma Retriever 선언(10개의 유사문서 출력)\n",
        "retriver= Chroma.from_texts(texts, embedding=embedding).as_retriever(search_kwargs={\"k\":10})\n",
        "\n",
        "query=\"셀틱에 대해 설명해줘\"\n",
        "\n",
        "# 유사도 기준으로 검색 결과 출력\n",
        "docs=retriver.get_relevant_documents(query)\n",
        "docs"
      ],
      "metadata": {
        "id": "lPsXHKEF4Gpm",
        "colab": {
          "base_uri": "https://localhost:8080/"
        },
        "outputId": "127d2234-9840-4be8-95ca-17c985c5aeed"
      },
      "execution_count": null,
      "outputs": [
        {
          "output_type": "execute_result",
          "data": {
            "text/plain": [
              "[Document(id='2689b162-ccc3-4c46-aba0-4ccb0928ead2', metadata={}, page_content='이것은 보스턴 셀틱스에 관한 문서입니다.'),\n",
              " Document(id='3c40f68d-2e72-4e48-9bf1-1ccc5aeba0a2', metadata={}, page_content='L. 코넷은 최고의 셀틱스 선수 중 한명입니다.'),\n",
              " Document(id='b5756728-3f54-4132-95ee-f8758f4d4833', metadata={}, page_content='보스턴 셀틱스는 바스켈볼의 훌륭한 팀입니다.'),\n",
              " Document(id='5c87efc1-b96d-4980-b53e-ad5e2d41e5ac', metadata={}, page_content='셀틱스는 제가 가장 좋아하는 팀입니다.'),\n",
              " Document(id='c2330a00-9034-4325-83b3-662bd383bc5f', metadata={}, page_content='이것은 그냥 임의의 텍스트입니다.'),\n",
              " Document(id='2a83d4de-830a-4cee-b0fe-9626d37cc7c2', metadata={}, page_content='바스켓볼은 훌륭한 스포츠입니다.'),\n",
              " Document(id='4a8f8658-0798-41ac-b87f-0f3ac4244ef3', metadata={}, page_content='보스터 셀틱스가 20점차로 이겼어요.'),\n",
              " Document(id='1ea512fc-71ff-449d-a00e-a1178cb360ad', metadata={}, page_content='플라이 미 투 더 문은 제가 가장 좋아하는 노래 중 하나입니다.'),\n",
              " Document(id='aeac0fe5-399d-4e49-a57a-98a4b3109b9a', metadata={}, page_content='엘든 링은 지낭 15년 동안 최고의 게임 중 하나입니다.'),\n",
              " Document(id='40a9493e-d123-42fe-bd9e-36648910eb8f', metadata={}, page_content='래리 버드는 상징적인 NBA 선수였습니다.')]"
            ]
          },
          "metadata": {},
          "execution_count": 34
        }
      ]
    },
    {
      "cell_type": "markdown",
      "source": [
        "#### Long-Context Recorder를 활용한 유사문서 출력"
      ],
      "metadata": {
        "id": "t6ru79JacVYb"
      }
    },
    {
      "cell_type": "code",
      "source": [
        "#LongContextRecorder 선언\n",
        "recorder=LongContextReorder()\n",
        "\n",
        "#검색된 유사 문서 중 관련도가 높은 문서를 맨 앞과 맨 뒤에 재배치\n",
        "reordered_docs=recorder.transform_documents(docs)\n",
        "reordered_docs"
      ],
      "metadata": {
        "id": "e89E0eyi4Gv4",
        "colab": {
          "base_uri": "https://localhost:8080/"
        },
        "outputId": "adbdadb9-0c17-4726-82b0-878aad5d6003"
      },
      "execution_count": null,
      "outputs": [
        {
          "output_type": "execute_result",
          "data": {
            "text/plain": [
              "[Document(id='3c40f68d-2e72-4e48-9bf1-1ccc5aeba0a2', metadata={}, page_content='L. 코넷은 최고의 셀틱스 선수 중 한명입니다.'),\n",
              " Document(id='5c87efc1-b96d-4980-b53e-ad5e2d41e5ac', metadata={}, page_content='셀틱스는 제가 가장 좋아하는 팀입니다.'),\n",
              " Document(id='2a83d4de-830a-4cee-b0fe-9626d37cc7c2', metadata={}, page_content='바스켓볼은 훌륭한 스포츠입니다.'),\n",
              " Document(id='1ea512fc-71ff-449d-a00e-a1178cb360ad', metadata={}, page_content='플라이 미 투 더 문은 제가 가장 좋아하는 노래 중 하나입니다.'),\n",
              " Document(id='40a9493e-d123-42fe-bd9e-36648910eb8f', metadata={}, page_content='래리 버드는 상징적인 NBA 선수였습니다.'),\n",
              " Document(id='aeac0fe5-399d-4e49-a57a-98a4b3109b9a', metadata={}, page_content='엘든 링은 지낭 15년 동안 최고의 게임 중 하나입니다.'),\n",
              " Document(id='4a8f8658-0798-41ac-b87f-0f3ac4244ef3', metadata={}, page_content='보스터 셀틱스가 20점차로 이겼어요.'),\n",
              " Document(id='c2330a00-9034-4325-83b3-662bd383bc5f', metadata={}, page_content='이것은 그냥 임의의 텍스트입니다.'),\n",
              " Document(id='b5756728-3f54-4132-95ee-f8758f4d4833', metadata={}, page_content='보스턴 셀틱스는 바스켈볼의 훌륭한 팀입니다.'),\n",
              " Document(id='2689b162-ccc3-4c46-aba0-4ccb0928ead2', metadata={}, page_content='이것은 보스턴 셀틱스에 관한 문서입니다.')]"
            ]
          },
          "metadata": {},
          "execution_count": 35
        }
      ]
    },
    {
      "cell_type": "markdown",
      "source": [
        "#### LCEL(**L**ang**C**hain **E**xpression **L**anguege) 기본 체인 구성"
      ],
      "metadata": {
        "id": "dsRJVcTImnPK"
      }
    },
    {
      "cell_type": "code",
      "source": [
        "from langchain_core.output_parsers import StrOutputParser\n",
        "from langchain_core.prompts import ChatPromptTemplate\n",
        "from langchain_google_genai import GoogleGenerativeAI\n",
        "\n",
        "#프롬프트 템플릿 설정\n",
        "prompt=ChatPromptTemplate.from_template(\"{topic} 내부업무적용 효과에 대해서 설명해줘\")\n",
        "\n",
        "#LLM 호출\n",
        "llm = GoogleGenerativeAI(model=\"models/gemini-2.0-pro-exp-02-05\")\n",
        "\n",
        "#출력파서 설정\n",
        "output_parser=StrOutputParser()\n",
        "\n",
        "#LCEL로 프롬프트 템플릿-LLM-출력 파서 연결하기\n",
        "chain=prompt | llm | output_parser\n",
        "\n",
        "#invoke함수로 chain 실행하기\n",
        "print(chain.invoke({\"topic\":\"생성형 AI\"}))"
      ],
      "metadata": {
        "id": "jzEKxdTcCeR6"
      },
      "execution_count": null,
      "outputs": []
    },
    {
      "cell_type": "markdown",
      "source": [
        "#### 스트리밍 기능을 쉽게 추가하는 stream()"
      ],
      "metadata": {
        "id": "okIzsi6mCQjI"
      }
    },
    {
      "cell_type": "code",
      "source": [
        "from langchain_core.prompts import ChatPromptTemplate\n",
        "from langchain_google_genai import GoogleGenerativeAI\n",
        "\n",
        "#chain 선언\n",
        "model=GoogleGenerativeAI(model=\"models/gemini-2.0-pro-exp-02-05\")\n",
        "prompt=ChatPromptTemplate.from_template(\"{topic} 내부업무적용 효과에 대해서 설명해줘\")\n",
        "\n",
        "chain= prompt | model\n",
        "\n",
        "#chain의 stream()함수를 통해 스트리밍 기능 추가\n",
        "for token in chain.stream({\"topic\":\"AI agent\"}):\n",
        "    print(token, end=\"\", flush=True)"
      ],
      "metadata": {
        "id": "gLqM7luy2Qr_"
      },
      "execution_count": null,
      "outputs": []
    },
    {
      "cell_type": "markdown",
      "source": [
        "#### 여러개의 API를 요청하고 받는 batch()"
      ],
      "metadata": {
        "id": "_10rS2IdFva1"
      }
    },
    {
      "cell_type": "code",
      "source": [
        "import time\n",
        "model=GoogleGenerativeAI(model=\"models/gemini-2.0-pro-exp-02-05\")\n",
        "prompt=ChatPromptTemplate.from_template(\"다음 한글 문장을 일본어로 번역해줘 {sentence}\")\n",
        "\n",
        "chain= prompt | model\n",
        "\n",
        "results = []\n",
        "for input_data in [\n",
        "       {\"sentence\":\"그녀는 매일 아침 책을 읽습니다.\"},\n",
        "       {\"sentence\":\"오늘 날씨가 참 좋네요.\"},\n",
        "    #    {\"sentence\":\"저녁에 친구들과 영화를 볼 거에요.\"},\n",
        "]:\n",
        "    results.append(chain.invoke(input_data))\n",
        "    time.sleep(10)  # Introduce a 1-second delay between requests\n",
        "\n",
        "print(results)"
      ],
      "metadata": {
        "colab": {
          "base_uri": "https://localhost:8080/"
        },
        "id": "BQEx9WhgFVd4",
        "outputId": "540a054b-8bc9-4742-fd50-b5f4d7c1dd2e"
      },
      "execution_count": null,
      "outputs": [
        {
          "output_type": "stream",
          "name": "stdout",
          "text": [
            "['다음은 \"그녀는 매일 아침 책을 읽습니다\"를 일본어로 번역한 결과입니다.\\n\\n* **彼女は毎朝本を読みます。** (Kanojo wa maiasa hon o yomimasu.)\\n\\n이 번역이 가장 일반적이고 자연스러운 표현입니다.', '오늘 날씨가 참 좋네요.\\n\\n다음과 같이 번역할 수 있습니다.\\n\\n* **오늘 날씨가 참 좋네요:**\\n    * **今日は本当にいい天気ですね (Kyou wa hontou ni ii tenki desu ne)** - 일반적인 표현입니다.\\n    * **今日はとてもいい天気ですね (Kyou wa totemo ii tenki desu ne)** - \"정말\" 대신 \"매우\"를 사용한 표현입니다.\\n    * **今日は素晴らしい天気ですね (Kyou wa subarashii tenki desu ne)** - \"좋다\"를 좀 더 격식 있게 표현한 \"훌륭하다\"를 사용한 표현입니다.\\n\\n어떤 표현을 사용해도 의미는 잘 전달됩니다. 상황이나 상대방에 따라 적절한 표현을 선택하시면 됩니다.']\n"
          ]
        }
      ]
    },
    {
      "cell_type": "markdown",
      "source": [
        "#### 1개 문장 번역 수행"
      ],
      "metadata": {
        "id": "DAXySdoVMqXb"
      }
    },
    {
      "cell_type": "code",
      "source": [
        "%%time\n",
        "model=GoogleGenerativeAI(model=\"models/gemini-2.0-pro-exp-02-05\")\n",
        "prompt=ChatPromptTemplate.from_template(\"다음 한글 문장을 영어로 번역해줘 {sentence}\")\n",
        "\n",
        "chain= prompt | model\n",
        "\n",
        "print(chain.invoke({\"sentence\":\"그녀는 매일 아침 책을 읽습니다.\"}))\n",
        "print(\"\\n\" + \"----\"*30 + \"\\n\")\n",
        "print(chain.invoke({\"sentence\":\"오늘 날씨가 참 좋네요.\"}))"
      ],
      "metadata": {
        "colab": {
          "base_uri": "https://localhost:8080/"
        },
        "id": "a_2WlHGrMwsk",
        "outputId": "0bb65080-d107-4ff8-ed00-95f7ccd57a6f"
      },
      "execution_count": null,
      "outputs": [
        {
          "output_type": "stream",
          "name": "stdout",
          "text": [
            "다음은 주어진 한국어 문장을 영어로 번역한 여러 가지 방법입니다:\n",
            "\n",
            "*   **She reads a book every morning.** (가장 일반적이고 자연스러운 번역)\n",
            "*   **She reads books every morning.** (매일 여러 권의 책을 읽는다는 뉘앙스)\n",
            "*   **Every morning, she reads a book.** (문장 구조를 약간 변경)\n",
            "*    **She has a habit of reading a book every morning.** (매일 아침 책을 읽는 습관이 있다는 것을 강조)\n",
            "\n",
            "------------------------------------------------------------------------------------------------------------------------\n",
            "\n",
            "다음은 \"오늘 날씨가 참 좋네요\"를 영어로 번역한 여러 가지 방법입니다. 상황과 뉘앙스에 따라 적절한 표현을 선택할 수 있습니다.\n",
            "\n",
            "*   **The weather is really nice today.** (가장 일반적이고 무난한 표현)\n",
            "*   **It's a beautiful day today.** (아름다운 날씨를 강조)\n",
            "*   **The weather is lovely today.** (사랑스러운 날씨를 표현)\n",
            "*   **It's such a nice day out today.** (\"밖에\" 날씨가 좋다는 것을 포함)\n",
            "*  **What a beautiful day!** (감탄사 형식)\n",
            "*    **The weather is great today!**\n",
            "\n",
            "I recommend using the sentence \"The weather is really nice today,\" because it's simple and natural for all situations.\n",
            "CPU times: user 53 ms, sys: 4.35 ms, total: 57.3 ms\n",
            "Wall time: 4.62 s\n"
          ]
        }
      ]
    },
    {
      "cell_type": "markdown",
      "source": [
        "#### 구글 API 지원모델 확인"
      ],
      "metadata": {
        "id": "twZemYFs2RJ6"
      }
    },
    {
      "cell_type": "code",
      "source": [
        "from google import genai\n",
        "\n",
        "client = genai.Client()\n",
        "\n",
        "print(\"List of models that support generateContent:\\n\")\n",
        "for m in client.models.list():\n",
        "    for action in m.supported_actions:\n",
        "        if action == \"generateContent\":\n",
        "            print(m.name)\n",
        "\n",
        "print(\"List of models that support embedContent:\\n\")\n",
        "for m in client.models.list():\n",
        "    for action in m.supported_actions:\n",
        "        if action == \"embedContent\":\n",
        "            print(m.name)"
      ],
      "metadata": {
        "id": "irsPhMMqxmsI"
      },
      "execution_count": null,
      "outputs": []
    },
    {
      "cell_type": "markdown",
      "source": [
        "### **RAG 시스템 구축 - 기본적인 QA 체인 구성**"
      ],
      "metadata": {
        "id": "cC2eiwk2URBR"
      }
    },
    {
      "cell_type": "markdown",
      "source": [
        "#### 필요한 라이브러리 호출 및 API 키 설정"
      ],
      "metadata": {
        "id": "aTyLaoyGUZK5"
      }
    },
    {
      "cell_type": "code",
      "source": [
        "from langchain import hub\n",
        "from langchain.document_loaders import PyPDFLoader\n",
        "from langchain_text_splitters import RecursiveCharacterTextSplitter\n",
        "from langchain_google_genai import GoogleGenerativeAI\n",
        "from langchain_google_genai import GoogleGenerativeAIEmbeddings\n",
        "from langchain_chroma import Chroma\n",
        "from langchain_core.runnables import RunnablePassthrough\n",
        "from langchain_core.output_parsers import StrOutputParser\n",
        "import os\n",
        "import getpass\n",
        "\n",
        "if \"GOOGLE_API_KEY\" not in os.environ:\n",
        "    os.environ[\"GOOGLE_API_KEY\"] = getpass.getpass(\"Google AI API 키를 입력하세요: \")\n",
        "\n",
        "google_api_key = os.environ.get(\"GOOGLE_API_KEY\")\n"
      ],
      "metadata": {
        "id": "CXZAhdCKUgIX"
      },
      "execution_count": null,
      "outputs": []
    },
    {
      "cell_type": "markdown",
      "source": [
        "#### 문서로드/분활 및 벡터 인베딩"
      ],
      "metadata": {
        "id": "eKTKVP-uXaAk"
      }
    },
    {
      "cell_type": "code",
      "source": [
        "#헌법 PDF 파일 로드\n",
        "loader=PyPDFLoader(r\"/content/drive/MyDrive/Colab Notebooks/대한민국헌법(헌법)(제00010호)(19880225).pdf\")\n",
        "pages=loader.load_and_split()\n",
        "\n",
        "#PDF 파일을 1000자 청크로 분할\n",
        "text_splitter=RecursiveCharacterTextSplitter(\n",
        "    chunk_size=1000,\n",
        "    chunk_overlap=100,\n",
        ")\n",
        "docs=text_splitter.split_documents(pages)\n",
        "\n",
        "\n"
      ],
      "metadata": {
        "id": "d_wUsR21V8AJ"
      },
      "execution_count": null,
      "outputs": []
    },
    {
      "cell_type": "code",
      "source": [],
      "metadata": {
        "colab": {
          "base_uri": "https://localhost:8080/"
        },
        "id": "Inyvg5fwYCJi",
        "outputId": "b973edb7-e9e1-4ffc-ff0d-fe9bc2947cf6"
      },
      "execution_count": null,
      "outputs": [
        {
          "output_type": "execute_result",
          "data": {
            "text/plain": [
              "27"
            ]
          },
          "metadata": {},
          "execution_count": 86
        }
      ]
    }
  ]
}